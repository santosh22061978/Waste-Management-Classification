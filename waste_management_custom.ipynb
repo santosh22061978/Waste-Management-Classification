{
 "cells": [
  {
   "cell_type": "code",
   "execution_count": 2,
   "metadata": {},
   "outputs": [],
   "source": [
    "import config\n",
    "import warnings\n",
    "warnings.filterwarnings('ignore')\n"
   ]
  },
  {
   "cell_type": "code",
   "execution_count": 3,
   "metadata": {},
   "outputs": [],
   "source": [
    "import zipfile\n",
    "path_to_zip_file = \"/floyd/home/datasets/waste-classification-data-v2.zip\"\n",
    "directory_to_extract_to = \"/floyd/home/datasets/orig\"\n",
    "with zipfile.ZipFile(path_to_zip_file, 'r') as zip_ref:\n",
    "    zip_ref.extractall(directory_to_extract_to)"
   ]
  },
  {
   "cell_type": "code",
   "execution_count": 8,
   "metadata": {},
   "outputs": [],
   "source": [
    "#dDELETE FILES FROM TRAIN AND TEST FOLDER TO RECREATE IT\n",
    "import os, shutil\n",
    "def delete_File(folderpath):\n",
    "    for filename in os.listdir(folderpath):\n",
    "        file_path = os.path.join(folder, filename)\n",
    "        try:\n",
    "            if os.path.isfile(file_path) or os.path.islink(file_path):\n",
    "                os.unlink(file_path)\n",
    "            elif os.path.isdir(file_path):\n",
    "                shutil.rmtree(file_path)\n",
    "        except Exception as e:\n",
    "            print('Failed to delete %s. Reason: %s' % (file_path, e))\n",
    "\n",
    "            \n"
   ]
  },
  {
   "cell_type": "code",
   "execution_count": 15,
   "metadata": {},
   "outputs": [
    {
     "ename": "FileNotFoundError",
     "evalue": "[Errno 2] No such file or directory: '\\x0cloyd\\\\home\\x0cloyd\\\\home\\\\datasets\\\\idc\\testing\\x01'",
     "output_type": "error",
     "traceback": [
      "\u001b[0;31m---------------------------------------------------------------------------\u001b[0m",
      "\u001b[0;31mFileNotFoundError\u001b[0m                         Traceback (most recent call last)",
      "\u001b[0;32m<ipython-input-15-cc7c620aec50>\u001b[0m in \u001b[0;36m<module>\u001b[0;34m()\u001b[0m\n\u001b[1;32m      3\u001b[0m \u001b[0;31m#folder = '/floyd/home/datasets/input/DATASET/TRAIN/N'\u001b[0m\u001b[0;34m\u001b[0m\u001b[0;34m\u001b[0m\u001b[0m\n\u001b[1;32m      4\u001b[0m \u001b[0;34m\u001b[0m\u001b[0m\n\u001b[0;32m----> 5\u001b[0;31m \u001b[0mdelete_File\u001b[0m\u001b[0;34m(\u001b[0m\u001b[0mfolder\u001b[0m\u001b[0;34m)\u001b[0m\u001b[0;34m\u001b[0m\u001b[0m\n\u001b[0m",
      "\u001b[0;32m<ipython-input-8-0e3333df7088>\u001b[0m in \u001b[0;36mdelete_File\u001b[0;34m(folderpath)\u001b[0m\n\u001b[1;32m      2\u001b[0m \u001b[0;32mimport\u001b[0m \u001b[0mos\u001b[0m\u001b[0;34m,\u001b[0m \u001b[0mshutil\u001b[0m\u001b[0;34m\u001b[0m\u001b[0m\n\u001b[1;32m      3\u001b[0m \u001b[0;32mdef\u001b[0m \u001b[0mdelete_File\u001b[0m\u001b[0;34m(\u001b[0m\u001b[0mfolderpath\u001b[0m\u001b[0;34m)\u001b[0m\u001b[0;34m:\u001b[0m\u001b[0;34m\u001b[0m\u001b[0m\n\u001b[0;32m----> 4\u001b[0;31m     \u001b[0;32mfor\u001b[0m \u001b[0mfilename\u001b[0m \u001b[0;32min\u001b[0m \u001b[0mos\u001b[0m\u001b[0;34m.\u001b[0m\u001b[0mlistdir\u001b[0m\u001b[0;34m(\u001b[0m\u001b[0mfolderpath\u001b[0m\u001b[0;34m)\u001b[0m\u001b[0;34m:\u001b[0m\u001b[0;34m\u001b[0m\u001b[0m\n\u001b[0m\u001b[1;32m      5\u001b[0m         \u001b[0mfile_path\u001b[0m \u001b[0;34m=\u001b[0m \u001b[0mos\u001b[0m\u001b[0;34m.\u001b[0m\u001b[0mpath\u001b[0m\u001b[0;34m.\u001b[0m\u001b[0mjoin\u001b[0m\u001b[0;34m(\u001b[0m\u001b[0mfolder\u001b[0m\u001b[0;34m,\u001b[0m \u001b[0mfilename\u001b[0m\u001b[0;34m)\u001b[0m\u001b[0;34m\u001b[0m\u001b[0m\n\u001b[1;32m      6\u001b[0m         \u001b[0;32mtry\u001b[0m\u001b[0;34m:\u001b[0m\u001b[0;34m\u001b[0m\u001b[0m\n",
      "\u001b[0;31mFileNotFoundError\u001b[0m: [Errno 2] No such file or directory: '\\x0cloyd\\\\home\\x0cloyd\\\\home\\\\datasets\\\\idc\\testing\\x01'"
     ]
    }
   ],
   "source": [
    "folder = '\\\\floyd\\\\home\\\\floyd\\\\home\\\\datasets\\\\idc\\\\training\\\\0'\n",
    "folder ='\\floyd\\home\\floyd\\home\\datasets\\idc\\testing\\1'\n",
    "#folder = '/floyd/home/datasets/input/DATASET/TRAIN/N'\n",
    "\n",
    "delete_File(folder)\n"
   ]
  },
  {
   "cell_type": "code",
   "execution_count": 6,
   "metadata": {},
   "outputs": [
    {
     "name": "stdout",
     "output_type": "stream",
     "text": [
      "[INFO] loading example image...\n"
     ]
    }
   ],
   "source": [
    "import datasythetic_generator"
   ]
  },
  {
   "cell_type": "code",
   "execution_count": 17,
   "metadata": {},
   "outputs": [
    {
     "name": "stdout",
     "output_type": "stream",
     "text": [
      "[INFO] building 'training' split\n",
      "[INFO] 'creating /floyd/home/datasets/idc/training' directory\n",
      "[INFO] 'creating /floyd/home/datasets/idc/training/1' directory\n",
      "[INFO] 'creating /floyd/home/datasets/idc/training/0' directory\n",
      "[INFO] 'creating /floyd/home/datasets/idc/training/2' directory\n",
      "[INFO] building 'validation' split\n",
      "[INFO] 'creating /floyd/home/datasets/idc/validation' directory\n",
      "[INFO] 'creating /floyd/home/datasets/idc/validation/0' directory\n",
      "[INFO] 'creating /floyd/home/datasets/idc/validation/2' directory\n",
      "[INFO] 'creating /floyd/home/datasets/idc/validation/1' directory\n",
      "[INFO] building 'testing' split\n",
      "[INFO] 'creating /floyd/home/datasets/idc/testing' directory\n",
      "[INFO] 'creating /floyd/home/datasets/idc/testing/0' directory\n",
      "[INFO] 'creating /floyd/home/datasets/idc/testing/2' directory\n",
      "[INFO] 'creating /floyd/home/datasets/idc/testing/1' directory\n"
     ]
    }
   ],
   "source": [
    "import build_dataset"
   ]
  },
  {
   "cell_type": "code",
   "execution_count": 4,
   "metadata": {},
   "outputs": [
    {
     "name": "stdout",
     "output_type": "stream",
     "text": [
      "Found 23196 images belonging to 3 classes.\n",
      "Found 2577 images belonging to 3 classes.\n",
      "Found 6446 images belonging to 3 classes.\n",
      "Epoch 1/40\n",
      "724/724 [==============================] - 154s 213ms/step - loss: 0.8643 - acc: 0.6220 - val_loss: 2.1773 - val_acc: 0.6168\n",
      "Epoch 2/40\n",
      "724/724 [==============================] - 129s 178ms/step - loss: 0.7552 - acc: 0.6661 - val_loss: 1.6068 - val_acc: 0.6242\n",
      "Epoch 3/40\n",
      "724/724 [==============================] - 129s 178ms/step - loss: 0.7300 - acc: 0.6809 - val_loss: 1.8364 - val_acc: 0.6492\n",
      "Epoch 4/40\n",
      "724/724 [==============================] - 129s 178ms/step - loss: 0.7077 - acc: 0.6933 - val_loss: 1.7936 - val_acc: 0.6430\n",
      "Epoch 5/40\n",
      "724/724 [==============================] - 129s 179ms/step - loss: 0.6972 - acc: 0.7023 - val_loss: 0.8783 - val_acc: 0.6641\n",
      "Epoch 6/40\n",
      "724/724 [==============================] - 127s 176ms/step - loss: 0.6750 - acc: 0.7127 - val_loss: 0.9813 - val_acc: 0.6516\n",
      "Epoch 7/40\n",
      "724/724 [==============================] - 130s 179ms/step - loss: 0.6606 - acc: 0.7220 - val_loss: 0.8360 - val_acc: 0.6770\n",
      "Epoch 8/40\n",
      "724/724 [==============================] - 129s 178ms/step - loss: 0.6517 - acc: 0.7287 - val_loss: 0.8635 - val_acc: 0.6801\n",
      "Epoch 9/40\n",
      "724/724 [==============================] - 128s 177ms/step - loss: 0.6467 - acc: 0.7261 - val_loss: 0.8729 - val_acc: 0.6500\n",
      "Epoch 10/40\n",
      "724/724 [==============================] - 128s 176ms/step - loss: 0.6415 - acc: 0.7331 - val_loss: 0.8325 - val_acc: 0.6750\n",
      "Epoch 11/40\n",
      "724/724 [==============================] - 128s 177ms/step - loss: 0.6404 - acc: 0.7308 - val_loss: 0.8145 - val_acc: 0.6813\n",
      "Epoch 12/40\n",
      "724/724 [==============================] - 128s 176ms/step - loss: 0.6383 - acc: 0.7285 - val_loss: 0.8577 - val_acc: 0.6871\n",
      "Epoch 13/40\n",
      "724/724 [==============================] - 128s 177ms/step - loss: 0.6337 - acc: 0.7378 - val_loss: 0.8313 - val_acc: 0.6844\n",
      "Epoch 14/40\n",
      "724/724 [==============================] - 128s 177ms/step - loss: 0.6316 - acc: 0.7363 - val_loss: 0.8478 - val_acc: 0.6840\n",
      "Epoch 15/40\n",
      "724/724 [==============================] - 128s 177ms/step - loss: 0.6278 - acc: 0.7379 - val_loss: 0.8203 - val_acc: 0.6941\n",
      "Epoch 16/40\n",
      "724/724 [==============================] - 127s 176ms/step - loss: 0.6231 - acc: 0.7412 - val_loss: 0.8254 - val_acc: 0.6914\n",
      "Epoch 17/40\n",
      "724/724 [==============================] - 127s 176ms/step - loss: 0.6146 - acc: 0.7444 - val_loss: 0.8176 - val_acc: 0.6965\n",
      "Epoch 18/40\n",
      "724/724 [==============================] - 127s 176ms/step - loss: 0.6197 - acc: 0.7412 - val_loss: 0.8400 - val_acc: 0.6910\n",
      "Epoch 19/40\n",
      "724/724 [==============================] - 126s 175ms/step - loss: 0.6191 - acc: 0.7422 - val_loss: 0.8063 - val_acc: 0.6937\n",
      "Epoch 20/40\n",
      "724/724 [==============================] - 128s 177ms/step - loss: 0.6179 - acc: 0.7458 - val_loss: 0.8224 - val_acc: 0.6949\n",
      "Epoch 21/40\n",
      "724/724 [==============================] - 128s 177ms/step - loss: 0.6124 - acc: 0.7455 - val_loss: 0.8166 - val_acc: 0.6957\n",
      "Epoch 22/40\n",
      "724/724 [==============================] - 127s 176ms/step - loss: 0.6122 - acc: 0.7453 - val_loss: 0.8161 - val_acc: 0.6937\n",
      "Epoch 23/40\n",
      "724/724 [==============================] - 127s 176ms/step - loss: 0.6117 - acc: 0.7475 - val_loss: 0.8128 - val_acc: 0.6961\n",
      "Epoch 24/40\n",
      "724/724 [==============================] - 126s 174ms/step - loss: 0.6076 - acc: 0.7463 - val_loss: 0.8232 - val_acc: 0.6922\n",
      "Epoch 25/40\n",
      "724/724 [==============================] - 127s 175ms/step - loss: 0.6123 - acc: 0.7449 - val_loss: 0.8324 - val_acc: 0.6930\n",
      "Epoch 26/40\n",
      "724/724 [==============================] - 127s 175ms/step - loss: 0.6070 - acc: 0.7498 - val_loss: 0.8272 - val_acc: 0.6961\n",
      "Epoch 27/40\n",
      "724/724 [==============================] - 129s 178ms/step - loss: 0.6067 - acc: 0.7490 - val_loss: 0.8107 - val_acc: 0.6945\n",
      "Epoch 28/40\n",
      "724/724 [==============================] - 127s 175ms/step - loss: 0.6106 - acc: 0.7491 - val_loss: 0.8038 - val_acc: 0.6992\n",
      "Epoch 29/40\n",
      "724/724 [==============================] - 127s 176ms/step - loss: 0.6019 - acc: 0.7502 - val_loss: 0.8078 - val_acc: 0.6937\n",
      "Epoch 30/40\n",
      "724/724 [==============================] - 129s 178ms/step - loss: 0.6065 - acc: 0.7499 - val_loss: 0.8271 - val_acc: 0.6984\n",
      "Epoch 31/40\n",
      "724/724 [==============================] - 131s 180ms/step - loss: 0.6025 - acc: 0.7509 - val_loss: 0.7989 - val_acc: 0.6973\n",
      "Epoch 32/40\n",
      "724/724 [==============================] - 130s 179ms/step - loss: 0.6012 - acc: 0.7518 - val_loss: 0.8101 - val_acc: 0.6996\n",
      "Epoch 33/40\n",
      "724/724 [==============================] - 128s 177ms/step - loss: 0.6019 - acc: 0.7508 - val_loss: 0.8325 - val_acc: 0.6922\n",
      "Epoch 34/40\n",
      "724/724 [==============================] - 128s 177ms/step - loss: 0.5981 - acc: 0.7512 - val_loss: 0.8115 - val_acc: 0.6973\n",
      "Epoch 35/40\n",
      "724/724 [==============================] - 128s 176ms/step - loss: 0.6010 - acc: 0.7534 - val_loss: 0.8055 - val_acc: 0.7000\n",
      "Epoch 36/40\n",
      "724/724 [==============================] - 128s 176ms/step - loss: 0.5981 - acc: 0.7517 - val_loss: 0.8058 - val_acc: 0.7000\n",
      "Epoch 37/40\n",
      "724/724 [==============================] - 127s 176ms/step - loss: 0.5978 - acc: 0.7541 - val_loss: 0.8257 - val_acc: 0.6934\n",
      "Epoch 38/40\n",
      "724/724 [==============================] - 127s 176ms/step - loss: 0.5961 - acc: 0.7539 - val_loss: 0.8114 - val_acc: 0.6984\n",
      "Epoch 39/40\n",
      "724/724 [==============================] - 129s 178ms/step - loss: 0.5961 - acc: 0.7530 - val_loss: 0.7932 - val_acc: 0.7023\n",
      "Epoch 40/40\n",
      "724/724 [==============================] - 127s 176ms/step - loss: 0.5954 - acc: 0.7560 - val_loss: 0.7817 - val_acc: 0.7047\n",
      "saving the model\n",
      "[INFO] evaluating network...\n",
      "              precision    recall  f1-score   support\n",
      "\n",
      "           0       0.74      0.49      0.59      1984\n",
      "           1       0.72      0.93      0.81      2810\n",
      "           2       0.63      0.58      0.61      1652\n",
      "\n",
      "   micro avg       0.71      0.71      0.71      6446\n",
      "   macro avg       0.70      0.67      0.67      6446\n",
      "weighted avg       0.71      0.71      0.69      6446\n",
      "\n",
      "[[ 980  559  445]\n",
      " [  92 2605  113]\n",
      " [ 247  442  963]]\n",
      "acc: 0.5562\n",
      "sensitivity: 0.6368\n",
      "specificity: 0.9659\n"
     ]
    }
   ],
   "source": [
    "import train_model\n",
    "# without class weight using optimiser adagrad"
   ]
  },
  {
   "cell_type": "code",
   "execution_count": 5,
   "metadata": {},
   "outputs": [
    {
     "name": "stdout",
     "output_type": "stream",
     "text": [
      "Found 23196 images belonging to 3 classes.\n",
      "Found 2577 images belonging to 3 classes.\n",
      "Found 6446 images belonging to 3 classes.\n",
      "Epoch 1/60\n",
      "724/724 [==============================] - 130s 180ms/step - loss: 0.8615 - acc: 0.6208 - val_loss: 1.4012 - val_acc: 0.6246\n",
      "Epoch 2/60\n",
      "724/724 [==============================] - 129s 178ms/step - loss: 0.7462 - acc: 0.6709 - val_loss: 1.3006 - val_acc: 0.6398\n",
      "Epoch 3/60\n",
      "724/724 [==============================] - 128s 177ms/step - loss: 0.7146 - acc: 0.6863 - val_loss: 0.9289 - val_acc: 0.6469\n",
      "Epoch 4/60\n",
      "724/724 [==============================] - 127s 176ms/step - loss: 0.6954 - acc: 0.6967 - val_loss: 0.8422 - val_acc: 0.6758\n",
      "Epoch 5/60\n",
      "724/724 [==============================] - 129s 179ms/step - loss: 0.6853 - acc: 0.7029 - val_loss: 0.9014 - val_acc: 0.6707\n",
      "Epoch 6/60\n",
      "724/724 [==============================] - 126s 175ms/step - loss: 0.6735 - acc: 0.7102 - val_loss: 0.8578 - val_acc: 0.6645\n",
      "Epoch 7/60\n",
      "724/724 [==============================] - 130s 180ms/step - loss: 0.6654 - acc: 0.7161 - val_loss: 0.8288 - val_acc: 0.6887\n",
      "Epoch 8/60\n",
      "724/724 [==============================] - 131s 181ms/step - loss: 0.6616 - acc: 0.7156 - val_loss: 0.8383 - val_acc: 0.6910\n",
      "Epoch 9/60\n",
      "724/724 [==============================] - 129s 178ms/step - loss: 0.6521 - acc: 0.7217 - val_loss: 0.9037 - val_acc: 0.6719\n",
      "Epoch 10/60\n",
      "724/724 [==============================] - 129s 178ms/step - loss: 0.6422 - acc: 0.7283 - val_loss: 0.8871 - val_acc: 0.6652\n",
      "Epoch 11/60\n",
      "724/724 [==============================] - 130s 180ms/step - loss: 0.6367 - acc: 0.7300 - val_loss: 0.8983 - val_acc: 0.6832\n",
      "Epoch 12/60\n",
      "724/724 [==============================] - 129s 178ms/step - loss: 0.6318 - acc: 0.7338 - val_loss: 0.9267 - val_acc: 0.6527\n",
      "Epoch 13/60\n",
      "724/724 [==============================] - 131s 182ms/step - loss: 0.6275 - acc: 0.7351 - val_loss: 0.9352 - val_acc: 0.6559\n",
      "Epoch 14/60\n",
      "724/724 [==============================] - 128s 177ms/step - loss: 0.6237 - acc: 0.7365 - val_loss: 0.9121 - val_acc: 0.6652\n",
      "Epoch 15/60\n",
      "724/724 [==============================] - 130s 179ms/step - loss: 0.6233 - acc: 0.7422 - val_loss: 0.9405 - val_acc: 0.6641\n",
      "Epoch 16/60\n",
      "724/724 [==============================] - 129s 179ms/step - loss: 0.6168 - acc: 0.7417 - val_loss: 1.0077 - val_acc: 0.6496\n",
      "Epoch 17/60\n",
      "724/724 [==============================] - 129s 179ms/step - loss: 0.6129 - acc: 0.7450 - val_loss: 1.1061 - val_acc: 0.6207\n",
      "Epoch 18/60\n",
      "724/724 [==============================] - 129s 179ms/step - loss: 0.6075 - acc: 0.7452 - val_loss: 1.0297 - val_acc: 0.6383\n",
      "Epoch 19/60\n",
      "724/724 [==============================] - 128s 177ms/step - loss: 0.6093 - acc: 0.7463 - val_loss: 1.0335 - val_acc: 0.6379\n",
      "Epoch 20/60\n",
      "724/724 [==============================] - 130s 180ms/step - loss: 0.6088 - acc: 0.7473 - val_loss: 1.1047 - val_acc: 0.6348\n",
      "Epoch 21/60\n",
      "724/724 [==============================] - 129s 179ms/step - loss: 0.6057 - acc: 0.7502 - val_loss: 1.1802 - val_acc: 0.6188\n",
      "Epoch 22/60\n",
      "724/724 [==============================] - 129s 179ms/step - loss: 0.6049 - acc: 0.7501 - val_loss: 1.1668 - val_acc: 0.6152\n",
      "Epoch 23/60\n",
      "724/724 [==============================] - 130s 179ms/step - loss: 0.6017 - acc: 0.7490 - val_loss: 1.1273 - val_acc: 0.6312\n",
      "Epoch 24/60\n",
      "724/724 [==============================] - 129s 178ms/step - loss: 0.6012 - acc: 0.7523 - val_loss: 1.1271 - val_acc: 0.6332\n",
      "Epoch 25/60\n",
      "724/724 [==============================] - 130s 179ms/step - loss: 0.5998 - acc: 0.7507 - val_loss: 1.1321 - val_acc: 0.6258\n",
      "Epoch 26/60\n",
      "724/724 [==============================] - 130s 180ms/step - loss: 0.5940 - acc: 0.7520 - val_loss: 1.2303 - val_acc: 0.6141\n",
      "Epoch 27/60\n",
      "724/724 [==============================] - 128s 177ms/step - loss: 0.5895 - acc: 0.7574 - val_loss: 1.3728 - val_acc: 0.5973\n",
      "Epoch 28/60\n",
      "724/724 [==============================] - 130s 180ms/step - loss: 0.5940 - acc: 0.7501 - val_loss: 1.2352 - val_acc: 0.6109\n",
      "Epoch 29/60\n",
      "724/724 [==============================] - 129s 178ms/step - loss: 0.5892 - acc: 0.7579 - val_loss: 1.2140 - val_acc: 0.6180\n",
      "Epoch 30/60\n",
      "724/724 [==============================] - 131s 181ms/step - loss: 0.5970 - acc: 0.7533 - val_loss: 1.1915 - val_acc: 0.6227\n",
      "Epoch 31/60\n",
      "724/724 [==============================] - 132s 183ms/step - loss: 0.5923 - acc: 0.7567 - val_loss: 1.1747 - val_acc: 0.6266\n",
      "Epoch 32/60\n",
      "724/724 [==============================] - 128s 176ms/step - loss: 0.5872 - acc: 0.7560 - val_loss: 1.1812 - val_acc: 0.6203\n",
      "Epoch 33/60\n",
      "724/724 [==============================] - 132s 182ms/step - loss: 0.5849 - acc: 0.7591 - val_loss: 1.1519 - val_acc: 0.6379\n",
      "Epoch 34/60\n",
      "724/724 [==============================] - 129s 179ms/step - loss: 0.5863 - acc: 0.7576 - val_loss: 1.2601 - val_acc: 0.6168\n",
      "Epoch 35/60\n",
      "724/724 [==============================] - 129s 178ms/step - loss: 0.5853 - acc: 0.7566 - val_loss: 1.2510 - val_acc: 0.6152\n",
      "Epoch 36/60\n",
      "724/724 [==============================] - 130s 180ms/step - loss: 0.5809 - acc: 0.7585 - val_loss: 1.2553 - val_acc: 0.6180\n",
      "Epoch 37/60\n",
      "724/724 [==============================] - 128s 177ms/step - loss: 0.5854 - acc: 0.7603 - val_loss: 1.1824 - val_acc: 0.6266\n",
      "Epoch 38/60\n",
      "724/724 [==============================] - 132s 182ms/step - loss: 0.5817 - acc: 0.7579 - val_loss: 1.2871 - val_acc: 0.6094\n",
      "Epoch 39/60\n",
      "724/724 [==============================] - 132s 182ms/step - loss: 0.5760 - acc: 0.7646 - val_loss: 1.3099 - val_acc: 0.6152\n",
      "Epoch 40/60\n",
      "724/724 [==============================] - 130s 179ms/step - loss: 0.5820 - acc: 0.7615 - val_loss: 1.2756 - val_acc: 0.6141\n",
      "Epoch 41/60\n",
      "724/724 [==============================] - 130s 179ms/step - loss: 0.5768 - acc: 0.7637 - val_loss: 1.3536 - val_acc: 0.6098\n",
      "Epoch 42/60\n",
      "724/724 [==============================] - 127s 176ms/step - loss: 0.5783 - acc: 0.7638 - val_loss: 1.2555 - val_acc: 0.6215\n",
      "Epoch 43/60\n",
      "724/724 [==============================] - 131s 181ms/step - loss: 0.5766 - acc: 0.7641 - val_loss: 1.3054 - val_acc: 0.6121\n",
      "Epoch 44/60\n",
      "724/724 [==============================] - 130s 179ms/step - loss: 0.5713 - acc: 0.7656 - val_loss: 1.2907 - val_acc: 0.6176\n",
      "Epoch 45/60\n",
      "724/724 [==============================] - 129s 179ms/step - loss: 0.5726 - acc: 0.7632 - val_loss: 1.3886 - val_acc: 0.6078\n",
      "Epoch 46/60\n",
      "724/724 [==============================] - 130s 180ms/step - loss: 0.5723 - acc: 0.7662 - val_loss: 1.4113 - val_acc: 0.6086\n",
      "Epoch 47/60\n",
      "724/724 [==============================] - 128s 177ms/step - loss: 0.5737 - acc: 0.7634 - val_loss: 1.2314 - val_acc: 0.6242\n",
      "Epoch 48/60\n",
      "724/724 [==============================] - 130s 179ms/step - loss: 0.5778 - acc: 0.7647 - val_loss: 1.2365 - val_acc: 0.6215\n",
      "Epoch 49/60\n",
      "724/724 [==============================] - 129s 179ms/step - loss: 0.5721 - acc: 0.7633 - val_loss: 1.2591 - val_acc: 0.6246\n",
      "Epoch 50/60\n",
      "724/724 [==============================] - 128s 177ms/step - loss: 0.5707 - acc: 0.7636 - val_loss: 1.3097 - val_acc: 0.6199\n",
      "Epoch 51/60\n",
      "724/724 [==============================] - 130s 179ms/step - loss: 0.5715 - acc: 0.7654 - val_loss: 1.4165 - val_acc: 0.6055\n",
      "Epoch 53/60\n",
      "724/724 [==============================] - 129s 178ms/step - loss: 0.5666 - acc: 0.7706 - val_loss: 1.4088 - val_acc: 0.6098\n",
      "Epoch 54/60\n",
      "724/724 [==============================] - 129s 178ms/step - loss: 0.5689 - acc: 0.7664 - val_loss: 1.4224 - val_acc: 0.6066\n",
      "Epoch 55/60\n",
      "724/724 [==============================] - 129s 179ms/step - loss: 0.5675 - acc: 0.7667 - val_loss: 1.3311 - val_acc: 0.6176\n",
      "Epoch 56/60\n",
      "724/724 [==============================] - 131s 181ms/step - loss: 0.5677 - acc: 0.7646 - val_loss: 1.4101 - val_acc: 0.6098\n",
      "Epoch 57/60\n",
      "724/724 [==============================] - 131s 181ms/step - loss: 0.5659 - acc: 0.7683 - val_loss: 1.4130 - val_acc: 0.6117\n",
      "Epoch 58/60\n",
      "724/724 [==============================] - 129s 178ms/step - loss: 0.5655 - acc: 0.7682 - val_loss: 1.3996 - val_acc: 0.6109\n",
      "Epoch 59/60\n",
      "724/724 [==============================] - 131s 181ms/step - loss: 0.5767 - acc: 0.7628 - val_loss: 1.4426 - val_acc: 0.6098\n",
      "Epoch 60/60\n",
      "724/724 [==============================] - 129s 178ms/step - loss: 0.5610 - acc: 0.7727 - val_loss: 1.4255 - val_acc: 0.6102\n",
      "saving the model\n",
      "[INFO] evaluating network...\n",
      "              precision    recall  f1-score   support\n",
      "\n",
      "           0       0.80      0.40      0.53      1984\n",
      "           1       0.55      0.98      0.70      2810\n",
      "           2       0.76      0.20      0.32      1652\n",
      "\n",
      "   micro avg       0.60      0.60      0.60      6446\n",
      "   macro avg       0.70      0.53      0.52      6446\n",
      "weighted avg       0.68      0.60      0.55      6446\n",
      "\n",
      "[[ 790 1117   77]\n",
      " [  34 2749   27]\n",
      " [ 168 1147  337]]\n",
      "acc: 0.5490\n",
      "sensitivity: 0.4143\n",
      "specificity: 0.9878\n"
     ]
    }
   ],
   "source": [
    "import train_model\n",
    "# with class weight using adagrad"
   ]
  },
  {
   "cell_type": "code",
   "execution_count": 1,
   "metadata": {},
   "outputs": [
    {
     "name": "stderr",
     "output_type": "stream",
     "text": [
      "Using TensorFlow backend.\n"
     ]
    },
    {
     "name": "stdout",
     "output_type": "stream",
     "text": [
      "printing class weight to account for skew in the labeled data\n",
      "[1.3902608 1.        1.6794034]\n",
      "Found 23196 images belonging to 3 classes.\n",
      "Found 2577 images belonging to 3 classes.\n",
      "Found 6446 images belonging to 3 classes.\n",
      "Epoch 1/62\n",
      "724/724 [==============================] - 132s 182ms/step - loss: 0.9106 - acc: 0.6038 - val_loss: 2.0955 - val_acc: 0.6258\n",
      "Epoch 2/62\n",
      "724/724 [==============================] - 130s 180ms/step - loss: 0.7817 - acc: 0.6532 - val_loss: 0.8686 - val_acc: 0.6840\n",
      "Epoch 3/62\n",
      "724/724 [==============================] - 130s 180ms/step - loss: 0.7106 - acc: 0.6959 - val_loss: 0.9263 - val_acc: 0.6141\n",
      "Epoch 4/62\n",
      "724/724 [==============================] - 128s 177ms/step - loss: 0.6789 - acc: 0.7144 - val_loss: 0.7304 - val_acc: 0.7031\n",
      "Epoch 5/62\n",
      "724/724 [==============================] - 130s 179ms/step - loss: 0.6515 - acc: 0.7248 - val_loss: 0.7200 - val_acc: 0.7305\n",
      "Epoch 6/62\n",
      "724/724 [==============================] - 130s 180ms/step - loss: 0.6378 - acc: 0.7337 - val_loss: 0.6292 - val_acc: 0.7434\n",
      "Epoch 7/62\n",
      "724/724 [==============================] - 130s 180ms/step - loss: 0.6197 - acc: 0.7416 - val_loss: 0.6752 - val_acc: 0.7199\n",
      "Epoch 8/62\n",
      "724/724 [==============================] - 130s 180ms/step - loss: 0.6092 - acc: 0.7487 - val_loss: 0.8661 - val_acc: 0.6418\n",
      "Epoch 9/62\n",
      "724/724 [==============================] - 129s 178ms/step - loss: 0.5944 - acc: 0.7536 - val_loss: 0.5925 - val_acc: 0.7570\n",
      "Epoch 10/62\n",
      "724/724 [==============================] - 131s 181ms/step - loss: 0.6192 - acc: 0.7369 - val_loss: 0.7950 - val_acc: 0.6523\n",
      "Epoch 11/62\n",
      "724/724 [==============================] - 131s 180ms/step - loss: 0.6027 - acc: 0.7484 - val_loss: 0.7015 - val_acc: 0.7066\n",
      "Epoch 12/62\n",
      "724/724 [==============================] - 130s 180ms/step - loss: 0.5782 - acc: 0.7624 - val_loss: 0.6622 - val_acc: 0.7480\n",
      "Epoch 13/62\n",
      "724/724 [==============================] - 131s 181ms/step - loss: 0.5659 - acc: 0.7687 - val_loss: 0.7483 - val_acc: 0.7074\n",
      "Epoch 14/62\n",
      "724/724 [==============================] - 131s 181ms/step - loss: 0.5590 - acc: 0.7706 - val_loss: 0.6334 - val_acc: 0.7520\n",
      "Epoch 15/62\n",
      "724/724 [==============================] - 128s 177ms/step - loss: 0.5449 - acc: 0.7785 - val_loss: 0.9133 - val_acc: 0.6984\n",
      "Epoch 16/62\n",
      "724/724 [==============================] - 131s 181ms/step - loss: 0.5410 - acc: 0.7796 - val_loss: 0.8559 - val_acc: 0.6746\n",
      "Epoch 17/62\n",
      "724/724 [==============================] - 130s 180ms/step - loss: 0.5324 - acc: 0.7815 - val_loss: 0.5575 - val_acc: 0.7937\n",
      "Epoch 18/62\n",
      "724/724 [==============================] - 130s 179ms/step - loss: 0.5344 - acc: 0.7825 - val_loss: 0.7648 - val_acc: 0.6871\n",
      "Epoch 19/62\n",
      "724/724 [==============================] - 131s 181ms/step - loss: 0.5331 - acc: 0.7828 - val_loss: 0.9103 - val_acc: 0.6848\n",
      "Epoch 20/62\n",
      "724/724 [==============================] - 129s 179ms/step - loss: 0.5159 - acc: 0.7909 - val_loss: 0.6378 - val_acc: 0.7566\n",
      "Epoch 21/62\n",
      "724/724 [==============================] - 131s 181ms/step - loss: 0.5207 - acc: 0.7868 - val_loss: 0.6670 - val_acc: 0.7531\n",
      "Epoch 22/62\n",
      "724/724 [==============================] - 130s 180ms/step - loss: 0.5012 - acc: 0.8006 - val_loss: 0.5778 - val_acc: 0.7895\n",
      "Epoch 23/62\n",
      "724/724 [==============================] - 132s 182ms/step - loss: 0.4958 - acc: 0.8015 - val_loss: 0.5074 - val_acc: 0.8035\n",
      "Epoch 24/62\n",
      "724/724 [==============================] - 130s 180ms/step - loss: 0.5062 - acc: 0.7926 - val_loss: 0.8399 - val_acc: 0.7199\n",
      "Epoch 25/62\n",
      "724/724 [==============================] - 129s 179ms/step - loss: 0.5520 - acc: 0.7759 - val_loss: 0.5886 - val_acc: 0.7648\n",
      "Epoch 26/62\n",
      "724/724 [==============================] - 131s 181ms/step - loss: 0.5159 - acc: 0.7892 - val_loss: 0.7509 - val_acc: 0.7133\n",
      "Epoch 27/62\n",
      "724/724 [==============================] - 131s 181ms/step - loss: 0.4893 - acc: 0.8028 - val_loss: 0.7381 - val_acc: 0.7328\n",
      "Epoch 28/62\n",
      "724/724 [==============================] - 131s 180ms/step - loss: 0.4821 - acc: 0.8064 - val_loss: 0.5714 - val_acc: 0.7770\n",
      "Epoch 29/62\n",
      "724/724 [==============================] - 131s 181ms/step - loss: 0.4778 - acc: 0.8061 - val_loss: 0.5913 - val_acc: 0.7652\n",
      "Epoch 30/62\n",
      "724/724 [==============================] - 127s 176ms/step - loss: 0.4826 - acc: 0.8052 - val_loss: 0.5877 - val_acc: 0.7805\n",
      "Epoch 31/62\n",
      "724/724 [==============================] - 131s 182ms/step - loss: 0.4655 - acc: 0.8143 - val_loss: 0.5324 - val_acc: 0.8070\n",
      "Epoch 32/62\n",
      "724/724 [==============================] - 131s 180ms/step - loss: 0.4728 - acc: 0.8088 - val_loss: 0.5480 - val_acc: 0.7937\n",
      "Epoch 33/62\n",
      "724/724 [==============================] - 130s 179ms/step - loss: 0.4637 - acc: 0.8160 - val_loss: 0.5567 - val_acc: 0.7875\n",
      "Epoch 34/62\n",
      "724/724 [==============================] - 130s 179ms/step - loss: 0.4672 - acc: 0.8125 - val_loss: 0.7928 - val_acc: 0.7234\n",
      "Epoch 35/62\n",
      "724/724 [==============================] - 130s 180ms/step - loss: 0.4539 - acc: 0.8207 - val_loss: 0.5840 - val_acc: 0.7801\n",
      "Epoch 36/62\n",
      "724/724 [==============================] - 131s 181ms/step - loss: 0.4513 - acc: 0.8191 - val_loss: 0.9529 - val_acc: 0.7137\n",
      "Epoch 37/62\n",
      "724/724 [==============================] - 130s 180ms/step - loss: 0.4524 - acc: 0.8188 - val_loss: 0.5390 - val_acc: 0.8043\n",
      "Epoch 38/62\n",
      "724/724 [==============================] - 130s 180ms/step - loss: 0.4462 - acc: 0.8246 - val_loss: 0.5297 - val_acc: 0.8051\n",
      "Epoch 39/62\n",
      "724/724 [==============================] - 130s 180ms/step - loss: 0.4419 - acc: 0.8237 - val_loss: 0.6278 - val_acc: 0.7824\n",
      "Epoch 40/62\n",
      "724/724 [==============================] - 130s 180ms/step - loss: 0.4364 - acc: 0.8251 - val_loss: 0.5976 - val_acc: 0.7875\n",
      "Epoch 41/62\n",
      "724/724 [==============================] - 131s 180ms/step - loss: 0.4349 - acc: 0.8257 - val_loss: 0.5197 - val_acc: 0.8074\n",
      "Epoch 42/62\n",
      "724/724 [==============================] - 132s 182ms/step - loss: 0.4369 - acc: 0.8238 - val_loss: 0.7691 - val_acc: 0.7371\n",
      "Epoch 43/62\n",
      "724/724 [==============================] - 129s 178ms/step - loss: 0.4408 - acc: 0.8245 - val_loss: 0.9214 - val_acc: 0.7145\n",
      "Epoch 44/62\n",
      "724/724 [==============================] - 131s 181ms/step - loss: 0.4456 - acc: 0.8214 - val_loss: 0.5586 - val_acc: 0.8051\n",
      "Epoch 45/62\n",
      "724/724 [==============================] - 130s 179ms/step - loss: 0.4246 - acc: 0.8299 - val_loss: 0.6181 - val_acc: 0.7684\n",
      "Epoch 46/62\n",
      "724/724 [==============================] - 131s 181ms/step - loss: 0.4318 - acc: 0.8287 - val_loss: 0.8297 - val_acc: 0.7156\n",
      "Epoch 47/62\n",
      "724/724 [==============================] - 133s 183ms/step - loss: 0.4330 - acc: 0.8275 - val_loss: 0.4710 - val_acc: 0.8148\n",
      "Epoch 48/62\n",
      "724/724 [==============================] - 133s 183ms/step - loss: 0.4137 - acc: 0.8364 - val_loss: 0.5983 - val_acc: 0.7926\n",
      "Epoch 50/62\n",
      "724/724 [==============================] - 130s 180ms/step - loss: 0.4207 - acc: 0.8320 - val_loss: 0.6483 - val_acc: 0.7711\n",
      "Epoch 51/62\n",
      "724/724 [==============================] - 129s 179ms/step - loss: 0.4129 - acc: 0.8363 - val_loss: 0.4738 - val_acc: 0.8234\n",
      "Epoch 52/62\n",
      "724/724 [==============================] - 129s 179ms/step - loss: 0.4052 - acc: 0.8419 - val_loss: 0.5124 - val_acc: 0.8105\n",
      "Epoch 53/62\n",
      "724/724 [==============================] - 130s 179ms/step - loss: 0.4319 - acc: 0.8283 - val_loss: 0.7545 - val_acc: 0.7379\n",
      "Epoch 54/62\n",
      "724/724 [==============================] - 132s 182ms/step - loss: 0.4129 - acc: 0.8364 - val_loss: 0.5667 - val_acc: 0.7937\n",
      "Epoch 55/62\n",
      "724/724 [==============================] - 131s 181ms/step - loss: 0.4041 - acc: 0.8402 - val_loss: 0.6936 - val_acc: 0.7586\n",
      "Epoch 56/62\n",
      "724/724 [==============================] - 130s 180ms/step - loss: 0.3994 - acc: 0.8434 - val_loss: 0.6906 - val_acc: 0.7594\n",
      "Epoch 57/62\n",
      "724/724 [==============================] - 131s 180ms/step - loss: 0.3935 - acc: 0.8456 - val_loss: 0.5983 - val_acc: 0.7895\n",
      "Epoch 58/62\n",
      "724/724 [==============================] - 129s 178ms/step - loss: 0.3971 - acc: 0.8433 - val_loss: 0.8768 - val_acc: 0.7246\n",
      "Epoch 59/62\n",
      "724/724 [==============================] - 131s 180ms/step - loss: 0.4038 - acc: 0.8396 - val_loss: 0.5650 - val_acc: 0.7914\n",
      "Epoch 60/62\n",
      "724/724 [==============================] - 132s 182ms/step - loss: 0.3939 - acc: 0.8450 - val_loss: 0.6676 - val_acc: 0.7664\n",
      "Epoch 61/62\n",
      "724/724 [==============================] - 131s 181ms/step - loss: 0.3905 - acc: 0.8438 - val_loss: 0.6673 - val_acc: 0.7754\n",
      "Epoch 62/62\n",
      "724/724 [==============================] - 131s 181ms/step - loss: 0.3848 - acc: 0.8490 - val_loss: 0.4853 - val_acc: 0.8199\n",
      "saving the model\n",
      "[INFO] evaluating network...\n",
      "              precision    recall  f1-score   support\n",
      "\n",
      "           0       0.88      0.68      0.77      1984\n",
      "           1       0.85      0.95      0.89      2810\n",
      "           2       0.72      0.77      0.74      1652\n",
      "\n",
      "   micro avg       0.82      0.82      0.82      6446\n",
      "   macro avg       0.81      0.80      0.80      6446\n",
      "weighted avg       0.82      0.82      0.81      6446\n",
      "\n",
      "[[1351  255  378]\n",
      " [  37 2657  116]\n",
      " [ 156  231 1265]]\n",
      "acc: 0.6218\n",
      "sensitivity: 0.8412\n",
      "specificity: 0.9863\n"
     ]
    }
   ],
   "source": [
    "import train_model\n",
    "#class weight using adam 0.5 factor"
   ]
  },
  {
   "cell_type": "code",
   "execution_count": 2,
   "metadata": {},
   "outputs": [
    {
     "name": "stdout",
     "output_type": "stream",
     "text": [
      "printing class weight to account for skew in the labeled data\n",
      "[1.3902608 1.        1.6794034]\n",
      "Found 23196 images belonging to 3 classes.\n",
      "Found 2577 images belonging to 3 classes.\n",
      "Found 6446 images belonging to 3 classes.\n",
      "Epoch 1/64\n",
      "724/724 [==============================] - 134s 186ms/step - loss: 0.9414 - acc: 0.5969 - val_loss: 0.7975 - val_acc: 0.6203\n",
      "Epoch 2/64\n",
      "  1/724 [..............................] - ETA: 2:02 - loss: 1.0735 - acc: 0.5312"
     ]
    },
    {
     "name": "stderr",
     "output_type": "stream",
     "text": [
      "/usr/local/lib/python3.6/site-packages/keras/callbacks.py:432: RuntimeWarning: Can save best model only with val_accuracy available, skipping.\n",
      "  'skipping.' % (self.monitor), RuntimeWarning)\n"
     ]
    },
    {
     "name": "stdout",
     "output_type": "stream",
     "text": [
      "724/724 [==============================] - 131s 181ms/step - loss: 0.7849 - acc: 0.6483 - val_loss: 0.7414 - val_acc: 0.6504\n",
      "Epoch 3/64\n",
      "724/724 [==============================] - 129s 178ms/step - loss: 0.7338 - acc: 0.6826 - val_loss: 0.7173 - val_acc: 0.6973\n"
     ]
    },
    {
     "name": "stderr",
     "output_type": "stream",
     "text": [
      "/usr/local/lib/python3.6/site-packages/keras/callbacks.py:432: RuntimeWarning: Can save best model only with val_accuracy available, skipping.\n",
      "  'skipping.' % (self.monitor), RuntimeWarning)\n"
     ]
    },
    {
     "name": "stdout",
     "output_type": "stream",
     "text": [
      "Epoch 4/64\n",
      "724/724 [==============================] - 131s 181ms/step - loss: 0.6966 - acc: 0.7041 - val_loss: 0.6839 - val_acc: 0.7141\n"
     ]
    },
    {
     "name": "stderr",
     "output_type": "stream",
     "text": [
      "/usr/local/lib/python3.6/site-packages/keras/callbacks.py:432: RuntimeWarning: Can save best model only with val_accuracy available, skipping.\n",
      "  'skipping.' % (self.monitor), RuntimeWarning)\n"
     ]
    },
    {
     "name": "stdout",
     "output_type": "stream",
     "text": [
      "Epoch 5/64\n",
      "724/724 [==============================] - 129s 179ms/step - loss: 0.6833 - acc: 0.7122 - val_loss: 0.6875 - val_acc: 0.6961\n"
     ]
    },
    {
     "name": "stderr",
     "output_type": "stream",
     "text": [
      "/usr/local/lib/python3.6/site-packages/keras/callbacks.py:432: RuntimeWarning: Can save best model only with val_accuracy available, skipping.\n",
      "  'skipping.' % (self.monitor), RuntimeWarning)\n"
     ]
    },
    {
     "name": "stdout",
     "output_type": "stream",
     "text": [
      "Epoch 6/64\n",
      "724/724 [==============================] - 132s 182ms/step - loss: 0.6564 - acc: 0.7253 - val_loss: 0.6511 - val_acc: 0.7297\n"
     ]
    },
    {
     "name": "stderr",
     "output_type": "stream",
     "text": [
      "/usr/local/lib/python3.6/site-packages/keras/callbacks.py:432: RuntimeWarning: Can save best model only with val_accuracy available, skipping.\n",
      "  'skipping.' % (self.monitor), RuntimeWarning)\n"
     ]
    },
    {
     "name": "stdout",
     "output_type": "stream",
     "text": [
      "Epoch 7/64\n",
      "724/724 [==============================] - 131s 181ms/step - loss: 0.6555 - acc: 0.7234 - val_loss: 0.6407 - val_acc: 0.7359\n",
      "Epoch 8/64\n"
     ]
    },
    {
     "name": "stderr",
     "output_type": "stream",
     "text": [
      "/usr/local/lib/python3.6/site-packages/keras/callbacks.py:432: RuntimeWarning: Can save best model only with val_accuracy available, skipping.\n",
      "  'skipping.' % (self.monitor), RuntimeWarning)\n"
     ]
    },
    {
     "name": "stdout",
     "output_type": "stream",
     "text": [
      "724/724 [==============================] - 130s 179ms/step - loss: 0.6370 - acc: 0.7357 - val_loss: 0.5929 - val_acc: 0.7578\n"
     ]
    },
    {
     "name": "stderr",
     "output_type": "stream",
     "text": [
      "/usr/local/lib/python3.6/site-packages/keras/callbacks.py:432: RuntimeWarning: Can save best model only with val_accuracy available, skipping.\n",
      "  'skipping.' % (self.monitor), RuntimeWarning)\n"
     ]
    },
    {
     "name": "stdout",
     "output_type": "stream",
     "text": [
      "Epoch 9/64\n",
      "724/724 [==============================] - 133s 183ms/step - loss: 0.6286 - acc: 0.7384 - val_loss: 0.8059 - val_acc: 0.6687\n"
     ]
    },
    {
     "name": "stderr",
     "output_type": "stream",
     "text": [
      "/usr/local/lib/python3.6/site-packages/keras/callbacks.py:432: RuntimeWarning: Can save best model only with val_accuracy available, skipping.\n",
      "  'skipping.' % (self.monitor), RuntimeWarning)\n"
     ]
    },
    {
     "name": "stdout",
     "output_type": "stream",
     "text": [
      "Epoch 10/64\n",
      "724/724 [==============================] - 129s 178ms/step - loss: 0.6085 - acc: 0.7459 - val_loss: 0.6075 - val_acc: 0.7449\n"
     ]
    },
    {
     "name": "stderr",
     "output_type": "stream",
     "text": [
      "/usr/local/lib/python3.6/site-packages/keras/callbacks.py:432: RuntimeWarning: Can save best model only with val_accuracy available, skipping.\n",
      "  'skipping.' % (self.monitor), RuntimeWarning)\n"
     ]
    },
    {
     "name": "stdout",
     "output_type": "stream",
     "text": [
      "Epoch 11/64\n",
      "724/724 [==============================] - 132s 183ms/step - loss: 0.6011 - acc: 0.7524 - val_loss: 0.6443 - val_acc: 0.7324\n"
     ]
    },
    {
     "name": "stderr",
     "output_type": "stream",
     "text": [
      "/usr/local/lib/python3.6/site-packages/keras/callbacks.py:432: RuntimeWarning: Can save best model only with val_accuracy available, skipping.\n",
      "  'skipping.' % (self.monitor), RuntimeWarning)\n"
     ]
    },
    {
     "name": "stdout",
     "output_type": "stream",
     "text": [
      "Epoch 12/64\n",
      "724/724 [==============================] - 133s 183ms/step - loss: 0.5862 - acc: 0.7593 - val_loss: 0.6956 - val_acc: 0.6973\n"
     ]
    },
    {
     "name": "stderr",
     "output_type": "stream",
     "text": [
      "/usr/local/lib/python3.6/site-packages/keras/callbacks.py:432: RuntimeWarning: Can save best model only with val_accuracy available, skipping.\n",
      "  'skipping.' % (self.monitor), RuntimeWarning)\n"
     ]
    },
    {
     "name": "stdout",
     "output_type": "stream",
     "text": [
      "Epoch 13/64\n",
      "724/724 [==============================] - 129s 178ms/step - loss: 0.5835 - acc: 0.7619 - val_loss: 0.7201 - val_acc: 0.6973\n"
     ]
    },
    {
     "name": "stderr",
     "output_type": "stream",
     "text": [
      "/usr/local/lib/python3.6/site-packages/keras/callbacks.py:432: RuntimeWarning: Can save best model only with val_accuracy available, skipping.\n",
      "  'skipping.' % (self.monitor), RuntimeWarning)\n"
     ]
    },
    {
     "name": "stdout",
     "output_type": "stream",
     "text": [
      "Epoch 14/64\n",
      "724/724 [==============================] - 131s 182ms/step - loss: 0.5680 - acc: 0.7667 - val_loss: 0.6239 - val_acc: 0.7574\n"
     ]
    },
    {
     "name": "stderr",
     "output_type": "stream",
     "text": [
      "/usr/local/lib/python3.6/site-packages/keras/callbacks.py:432: RuntimeWarning: Can save best model only with val_accuracy available, skipping.\n",
      "  'skipping.' % (self.monitor), RuntimeWarning)\n"
     ]
    },
    {
     "name": "stdout",
     "output_type": "stream",
     "text": [
      "Epoch 15/64\n",
      "724/724 [==============================] - 131s 181ms/step - loss: 0.5615 - acc: 0.7719 - val_loss: 0.6003 - val_acc: 0.7582\n"
     ]
    },
    {
     "name": "stderr",
     "output_type": "stream",
     "text": [
      "/usr/local/lib/python3.6/site-packages/keras/callbacks.py:432: RuntimeWarning: Can save best model only with val_accuracy available, skipping.\n",
      "  'skipping.' % (self.monitor), RuntimeWarning)\n"
     ]
    },
    {
     "name": "stdout",
     "output_type": "stream",
     "text": [
      "Epoch 16/64\n",
      "724/724 [==============================] - 133s 183ms/step - loss: 0.5518 - acc: 0.7776 - val_loss: 0.5793 - val_acc: 0.7539\n",
      "Epoch 17/64\n"
     ]
    },
    {
     "name": "stderr",
     "output_type": "stream",
     "text": [
      "/usr/local/lib/python3.6/site-packages/keras/callbacks.py:432: RuntimeWarning: Can save best model only with val_accuracy available, skipping.\n",
      "  'skipping.' % (self.monitor), RuntimeWarning)\n"
     ]
    },
    {
     "name": "stdout",
     "output_type": "stream",
     "text": [
      "724/724 [==============================] - 133s 183ms/step - loss: 0.5466 - acc: 0.7803 - val_loss: 0.7787 - val_acc: 0.7051\n"
     ]
    },
    {
     "name": "stderr",
     "output_type": "stream",
     "text": [
      "/usr/local/lib/python3.6/site-packages/keras/callbacks.py:432: RuntimeWarning: Can save best model only with val_accuracy available, skipping.\n",
      "  'skipping.' % (self.monitor), RuntimeWarning)\n"
     ]
    },
    {
     "name": "stdout",
     "output_type": "stream",
     "text": [
      "Epoch 18/64\n",
      "724/724 [==============================] - 131s 180ms/step - loss: 0.5356 - acc: 0.7843 - val_loss: 0.6647 - val_acc: 0.7223\n"
     ]
    },
    {
     "name": "stderr",
     "output_type": "stream",
     "text": [
      "/usr/local/lib/python3.6/site-packages/keras/callbacks.py:432: RuntimeWarning: Can save best model only with val_accuracy available, skipping.\n",
      "  'skipping.' % (self.monitor), RuntimeWarning)\n"
     ]
    },
    {
     "name": "stdout",
     "output_type": "stream",
     "text": [
      "Epoch 19/64\n",
      "724/724 [==============================] - 132s 183ms/step - loss: 0.5330 - acc: 0.7863 - val_loss: 0.6828 - val_acc: 0.7414\n"
     ]
    },
    {
     "name": "stderr",
     "output_type": "stream",
     "text": [
      "/usr/local/lib/python3.6/site-packages/keras/callbacks.py:432: RuntimeWarning: Can save best model only with val_accuracy available, skipping.\n",
      "  'skipping.' % (self.monitor), RuntimeWarning)\n"
     ]
    },
    {
     "name": "stdout",
     "output_type": "stream",
     "text": [
      "Epoch 20/64\n",
      "724/724 [==============================] - 131s 181ms/step - loss: 0.5379 - acc: 0.7808 - val_loss: 0.6440 - val_acc: 0.7449\n"
     ]
    },
    {
     "name": "stderr",
     "output_type": "stream",
     "text": [
      "/usr/local/lib/python3.6/site-packages/keras/callbacks.py:432: RuntimeWarning: Can save best model only with val_accuracy available, skipping.\n",
      "  'skipping.' % (self.monitor), RuntimeWarning)\n"
     ]
    },
    {
     "name": "stdout",
     "output_type": "stream",
     "text": [
      "Epoch 21/64\n",
      "724/724 [==============================] - 131s 182ms/step - loss: 0.5264 - acc: 0.7884 - val_loss: 0.6326 - val_acc: 0.7359\n"
     ]
    },
    {
     "name": "stderr",
     "output_type": "stream",
     "text": [
      "/usr/local/lib/python3.6/site-packages/keras/callbacks.py:432: RuntimeWarning: Can save best model only with val_accuracy available, skipping.\n",
      "  'skipping.' % (self.monitor), RuntimeWarning)\n"
     ]
    },
    {
     "name": "stdout",
     "output_type": "stream",
     "text": [
      "Epoch 22/64\n",
      "724/724 [==============================] - 132s 183ms/step - loss: 0.5477 - acc: 0.7793 - val_loss: 0.6320 - val_acc: 0.7496\n"
     ]
    },
    {
     "name": "stderr",
     "output_type": "stream",
     "text": [
      "/usr/local/lib/python3.6/site-packages/keras/callbacks.py:432: RuntimeWarning: Can save best model only with val_accuracy available, skipping.\n",
      "  'skipping.' % (self.monitor), RuntimeWarning)\n"
     ]
    },
    {
     "name": "stdout",
     "output_type": "stream",
     "text": [
      "Epoch 23/64\n",
      "724/724 [==============================] - 129s 179ms/step - loss: 0.5166 - acc: 0.7910 - val_loss: 0.6323 - val_acc: 0.7324\n",
      "Epoch 24/64\n"
     ]
    },
    {
     "name": "stderr",
     "output_type": "stream",
     "text": [
      "/usr/local/lib/python3.6/site-packages/keras/callbacks.py:432: RuntimeWarning: Can save best model only with val_accuracy available, skipping.\n",
      "  'skipping.' % (self.monitor), RuntimeWarning)\n"
     ]
    },
    {
     "name": "stdout",
     "output_type": "stream",
     "text": [
      "724/724 [==============================] - 133s 184ms/step - loss: 0.5168 - acc: 0.7902 - val_loss: 0.6165 - val_acc: 0.7633\n"
     ]
    },
    {
     "name": "stderr",
     "output_type": "stream",
     "text": [
      "/usr/local/lib/python3.6/site-packages/keras/callbacks.py:432: RuntimeWarning: Can save best model only with val_accuracy available, skipping.\n",
      "  'skipping.' % (self.monitor), RuntimeWarning)\n"
     ]
    },
    {
     "name": "stdout",
     "output_type": "stream",
     "text": [
      "Epoch 25/64\n",
      "724/724 [==============================] - 131s 181ms/step - loss: 0.5034 - acc: 0.7987 - val_loss: 0.6316 - val_acc: 0.7445\n"
     ]
    },
    {
     "name": "stderr",
     "output_type": "stream",
     "text": [
      "/usr/local/lib/python3.6/site-packages/keras/callbacks.py:432: RuntimeWarning: Can save best model only with val_accuracy available, skipping.\n",
      "  'skipping.' % (self.monitor), RuntimeWarning)\n"
     ]
    },
    {
     "name": "stdout",
     "output_type": "stream",
     "text": [
      "Epoch 26/64\n",
      "724/724 [==============================] - 130s 180ms/step - loss: 0.5076 - acc: 0.7942 - val_loss: 0.5783 - val_acc: 0.7641\n"
     ]
    },
    {
     "name": "stderr",
     "output_type": "stream",
     "text": [
      "/usr/local/lib/python3.6/site-packages/keras/callbacks.py:432: RuntimeWarning: Can save best model only with val_accuracy available, skipping.\n",
      "  'skipping.' % (self.monitor), RuntimeWarning)\n"
     ]
    },
    {
     "name": "stdout",
     "output_type": "stream",
     "text": [
      "Epoch 27/64\n",
      "724/724 [==============================] - 131s 181ms/step - loss: 0.5012 - acc: 0.7968 - val_loss: 1.0810 - val_acc: 0.6566\n"
     ]
    },
    {
     "name": "stderr",
     "output_type": "stream",
     "text": [
      "/usr/local/lib/python3.6/site-packages/keras/callbacks.py:432: RuntimeWarning: Can save best model only with val_accuracy available, skipping.\n",
      "  'skipping.' % (self.monitor), RuntimeWarning)\n"
     ]
    },
    {
     "name": "stdout",
     "output_type": "stream",
     "text": [
      "Epoch 28/64\n",
      "724/724 [==============================] - 130s 180ms/step - loss: 0.5028 - acc: 0.7990 - val_loss: 0.5745 - val_acc: 0.7688\n"
     ]
    },
    {
     "name": "stderr",
     "output_type": "stream",
     "text": [
      "/usr/local/lib/python3.6/site-packages/keras/callbacks.py:432: RuntimeWarning: Can save best model only with val_accuracy available, skipping.\n",
      "  'skipping.' % (self.monitor), RuntimeWarning)\n"
     ]
    },
    {
     "name": "stdout",
     "output_type": "stream",
     "text": [
      "Epoch 29/64\n",
      "724/724 [==============================] - 131s 181ms/step - loss: 0.4974 - acc: 0.8004 - val_loss: 0.7102 - val_acc: 0.7105\n"
     ]
    },
    {
     "name": "stderr",
     "output_type": "stream",
     "text": [
      "/usr/local/lib/python3.6/site-packages/keras/callbacks.py:432: RuntimeWarning: Can save best model only with val_accuracy available, skipping.\n",
      "  'skipping.' % (self.monitor), RuntimeWarning)\n"
     ]
    },
    {
     "name": "stdout",
     "output_type": "stream",
     "text": [
      "Epoch 30/64\n",
      "724/724 [==============================] - 131s 181ms/step - loss: 0.4845 - acc: 0.8065 - val_loss: 0.5482 - val_acc: 0.7844\n",
      "Epoch 31/64\n"
     ]
    },
    {
     "name": "stderr",
     "output_type": "stream",
     "text": [
      "/usr/local/lib/python3.6/site-packages/keras/callbacks.py:432: RuntimeWarning: Can save best model only with val_accuracy available, skipping.\n",
      "  'skipping.' % (self.monitor), RuntimeWarning)\n"
     ]
    },
    {
     "name": "stdout",
     "output_type": "stream",
     "text": [
      "724/724 [==============================] - 132s 182ms/step - loss: 0.4924 - acc: 0.7988 - val_loss: 0.6640 - val_acc: 0.7164\n"
     ]
    },
    {
     "name": "stderr",
     "output_type": "stream",
     "text": [
      "/usr/local/lib/python3.6/site-packages/keras/callbacks.py:432: RuntimeWarning: Can save best model only with val_accuracy available, skipping.\n",
      "  'skipping.' % (self.monitor), RuntimeWarning)\n"
     ]
    },
    {
     "name": "stdout",
     "output_type": "stream",
     "text": [
      "Epoch 32/64\n",
      "724/724 [==============================] - 133s 184ms/step - loss: 0.4900 - acc: 0.8027 - val_loss: 0.5983 - val_acc: 0.7488\n"
     ]
    },
    {
     "name": "stderr",
     "output_type": "stream",
     "text": [
      "/usr/local/lib/python3.6/site-packages/keras/callbacks.py:432: RuntimeWarning: Can save best model only with val_accuracy available, skipping.\n",
      "  'skipping.' % (self.monitor), RuntimeWarning)\n"
     ]
    },
    {
     "name": "stdout",
     "output_type": "stream",
     "text": [
      "Epoch 33/64\n",
      "724/724 [==============================] - 129s 178ms/step - loss: 0.4790 - acc: 0.8084 - val_loss: 0.5771 - val_acc: 0.7633\n"
     ]
    },
    {
     "name": "stderr",
     "output_type": "stream",
     "text": [
      "/usr/local/lib/python3.6/site-packages/keras/callbacks.py:432: RuntimeWarning: Can save best model only with val_accuracy available, skipping.\n",
      "  'skipping.' % (self.monitor), RuntimeWarning)\n"
     ]
    },
    {
     "name": "stdout",
     "output_type": "stream",
     "text": [
      "Epoch 34/64\n",
      "724/724 [==============================] - 131s 181ms/step - loss: 0.4769 - acc: 0.8092 - val_loss: 0.5657 - val_acc: 0.7707\n"
     ]
    },
    {
     "name": "stderr",
     "output_type": "stream",
     "text": [
      "/usr/local/lib/python3.6/site-packages/keras/callbacks.py:432: RuntimeWarning: Can save best model only with val_accuracy available, skipping.\n",
      "  'skipping.' % (self.monitor), RuntimeWarning)\n"
     ]
    },
    {
     "name": "stdout",
     "output_type": "stream",
     "text": [
      "Epoch 35/64\n",
      "724/724 [==============================] - 133s 184ms/step - loss: 0.4743 - acc: 0.8104 - val_loss: 0.5573 - val_acc: 0.7664\n"
     ]
    },
    {
     "name": "stderr",
     "output_type": "stream",
     "text": [
      "/usr/local/lib/python3.6/site-packages/keras/callbacks.py:432: RuntimeWarning: Can save best model only with val_accuracy available, skipping.\n",
      "  'skipping.' % (self.monitor), RuntimeWarning)\n"
     ]
    },
    {
     "name": "stdout",
     "output_type": "stream",
     "text": [
      "Epoch 36/64\n",
      "724/724 [==============================] - 132s 183ms/step - loss: 0.4658 - acc: 0.8160 - val_loss: 0.5928 - val_acc: 0.7891\n"
     ]
    },
    {
     "name": "stderr",
     "output_type": "stream",
     "text": [
      "/usr/local/lib/python3.6/site-packages/keras/callbacks.py:432: RuntimeWarning: Can save best model only with val_accuracy available, skipping.\n",
      "  'skipping.' % (self.monitor), RuntimeWarning)\n"
     ]
    },
    {
     "name": "stdout",
     "output_type": "stream",
     "text": [
      "Epoch 37/64\n",
      "724/724 [==============================] - 133s 184ms/step - loss: 0.4677 - acc: 0.8134 - val_loss: 0.5799 - val_acc: 0.7773\n",
      "Epoch 38/64\n"
     ]
    },
    {
     "name": "stderr",
     "output_type": "stream",
     "text": [
      "/usr/local/lib/python3.6/site-packages/keras/callbacks.py:432: RuntimeWarning: Can save best model only with val_accuracy available, skipping.\n",
      "  'skipping.' % (self.monitor), RuntimeWarning)\n"
     ]
    },
    {
     "name": "stdout",
     "output_type": "stream",
     "text": [
      "724/724 [==============================] - 131s 181ms/step - loss: 0.4560 - acc: 0.8186 - val_loss: 0.5108 - val_acc: 0.7996\n"
     ]
    },
    {
     "name": "stderr",
     "output_type": "stream",
     "text": [
      "/usr/local/lib/python3.6/site-packages/keras/callbacks.py:432: RuntimeWarning: Can save best model only with val_accuracy available, skipping.\n",
      "  'skipping.' % (self.monitor), RuntimeWarning)\n"
     ]
    },
    {
     "name": "stdout",
     "output_type": "stream",
     "text": [
      "Epoch 39/64\n",
      "724/724 [==============================] - 132s 182ms/step - loss: 0.4553 - acc: 0.8189 - val_loss: 0.5287 - val_acc: 0.7852\n"
     ]
    },
    {
     "name": "stderr",
     "output_type": "stream",
     "text": [
      "/usr/local/lib/python3.6/site-packages/keras/callbacks.py:432: RuntimeWarning: Can save best model only with val_accuracy available, skipping.\n",
      "  'skipping.' % (self.monitor), RuntimeWarning)\n"
     ]
    },
    {
     "name": "stdout",
     "output_type": "stream",
     "text": [
      "Epoch 40/64\n",
      "724/724 [==============================] - 132s 182ms/step - loss: 0.4512 - acc: 0.8183 - val_loss: 0.5747 - val_acc: 0.7812\n"
     ]
    },
    {
     "name": "stderr",
     "output_type": "stream",
     "text": [
      "/usr/local/lib/python3.6/site-packages/keras/callbacks.py:432: RuntimeWarning: Can save best model only with val_accuracy available, skipping.\n",
      "  'skipping.' % (self.monitor), RuntimeWarning)\n"
     ]
    },
    {
     "name": "stdout",
     "output_type": "stream",
     "text": [
      "Epoch 41/64\n",
      "724/724 [==============================] - 132s 183ms/step - loss: 0.4819 - acc: 0.8066 - val_loss: 0.5199 - val_acc: 0.7879\n"
     ]
    },
    {
     "name": "stderr",
     "output_type": "stream",
     "text": [
      "/usr/local/lib/python3.6/site-packages/keras/callbacks.py:432: RuntimeWarning: Can save best model only with val_accuracy available, skipping.\n",
      "  'skipping.' % (self.monitor), RuntimeWarning)\n"
     ]
    },
    {
     "name": "stdout",
     "output_type": "stream",
     "text": [
      "Epoch 42/64\n",
      "724/724 [==============================] - 132s 182ms/step - loss: 0.4539 - acc: 0.8190 - val_loss: 0.6479 - val_acc: 0.7645\n"
     ]
    },
    {
     "name": "stderr",
     "output_type": "stream",
     "text": [
      "/usr/local/lib/python3.6/site-packages/keras/callbacks.py:432: RuntimeWarning: Can save best model only with val_accuracy available, skipping.\n",
      "  'skipping.' % (self.monitor), RuntimeWarning)\n"
     ]
    },
    {
     "name": "stdout",
     "output_type": "stream",
     "text": [
      "Epoch 43/64\n",
      "724/724 [==============================] - 128s 177ms/step - loss: 0.4486 - acc: 0.8202 - val_loss: 0.5604 - val_acc: 0.7859\n"
     ]
    },
    {
     "name": "stderr",
     "output_type": "stream",
     "text": [
      "/usr/local/lib/python3.6/site-packages/keras/callbacks.py:432: RuntimeWarning: Can save best model only with val_accuracy available, skipping.\n",
      "  'skipping.' % (self.monitor), RuntimeWarning)\n"
     ]
    },
    {
     "name": "stdout",
     "output_type": "stream",
     "text": [
      "Epoch 44/64\n",
      "724/724 [==============================] - 131s 181ms/step - loss: 0.4406 - acc: 0.8237 - val_loss: 0.4996 - val_acc: 0.8031\n"
     ]
    },
    {
     "name": "stderr",
     "output_type": "stream",
     "text": [
      "/usr/local/lib/python3.6/site-packages/keras/callbacks.py:432: RuntimeWarning: Can save best model only with val_accuracy available, skipping.\n",
      "  'skipping.' % (self.monitor), RuntimeWarning)\n"
     ]
    },
    {
     "name": "stdout",
     "output_type": "stream",
     "text": [
      "Epoch 45/64\n",
      "724/724 [==============================] - 131s 182ms/step - loss: 0.4437 - acc: 0.8236 - val_loss: 0.5484 - val_acc: 0.7781\n"
     ]
    },
    {
     "name": "stderr",
     "output_type": "stream",
     "text": [
      "/usr/local/lib/python3.6/site-packages/keras/callbacks.py:432: RuntimeWarning: Can save best model only with val_accuracy available, skipping.\n",
      "  'skipping.' % (self.monitor), RuntimeWarning)\n"
     ]
    },
    {
     "name": "stdout",
     "output_type": "stream",
     "text": [
      "Epoch 46/64\n",
      "724/724 [==============================] - 131s 181ms/step - loss: 0.4291 - acc: 0.8307 - val_loss: 0.8504 - val_acc: 0.7031\n"
     ]
    },
    {
     "name": "stderr",
     "output_type": "stream",
     "text": [
      "/usr/local/lib/python3.6/site-packages/keras/callbacks.py:432: RuntimeWarning: Can save best model only with val_accuracy available, skipping.\n",
      "  'skipping.' % (self.monitor), RuntimeWarning)\n"
     ]
    },
    {
     "name": "stdout",
     "output_type": "stream",
     "text": [
      "Epoch 47/64\n",
      "724/724 [==============================] - 133s 183ms/step - loss: 0.4398 - acc: 0.8272 - val_loss: 0.5901 - val_acc: 0.7758\n"
     ]
    },
    {
     "name": "stderr",
     "output_type": "stream",
     "text": [
      "/usr/local/lib/python3.6/site-packages/keras/callbacks.py:432: RuntimeWarning: Can save best model only with val_accuracy available, skipping.\n",
      "  'skipping.' % (self.monitor), RuntimeWarning)\n"
     ]
    },
    {
     "name": "stdout",
     "output_type": "stream",
     "text": [
      "Epoch 48/64\n",
      "724/724 [==============================] - 129s 179ms/step - loss: 0.4303 - acc: 0.8287 - val_loss: 0.5064 - val_acc: 0.7988\n",
      "Epoch 49/64\n"
     ]
    },
    {
     "name": "stderr",
     "output_type": "stream",
     "text": [
      "/usr/local/lib/python3.6/site-packages/keras/callbacks.py:432: RuntimeWarning: Can save best model only with val_accuracy available, skipping.\n",
      "  'skipping.' % (self.monitor), RuntimeWarning)\n"
     ]
    },
    {
     "name": "stdout",
     "output_type": "stream",
     "text": [
      "724/724 [==============================] - 131s 181ms/step - loss: 0.4501 - acc: 0.8218 - val_loss: 0.5236 - val_acc: 0.7914\n"
     ]
    },
    {
     "name": "stderr",
     "output_type": "stream",
     "text": [
      "/usr/local/lib/python3.6/site-packages/keras/callbacks.py:432: RuntimeWarning: Can save best model only with val_accuracy available, skipping.\n",
      "  'skipping.' % (self.monitor), RuntimeWarning)\n"
     ]
    },
    {
     "name": "stdout",
     "output_type": "stream",
     "text": [
      "Epoch 50/64\n",
      "724/724 [==============================] - 131s 181ms/step - loss: 0.4429 - acc: 0.8226 - val_loss: 0.5172 - val_acc: 0.7914\n"
     ]
    },
    {
     "name": "stderr",
     "output_type": "stream",
     "text": [
      "/usr/local/lib/python3.6/site-packages/keras/callbacks.py:432: RuntimeWarning: Can save best model only with val_accuracy available, skipping.\n",
      "  'skipping.' % (self.monitor), RuntimeWarning)\n"
     ]
    },
    {
     "name": "stdout",
     "output_type": "stream",
     "text": [
      "Epoch 51/64\n",
      "724/724 [==============================] - 131s 180ms/step - loss: 0.4480 - acc: 0.8231 - val_loss: 0.4666 - val_acc: 0.8102\n"
     ]
    },
    {
     "name": "stderr",
     "output_type": "stream",
     "text": [
      "/usr/local/lib/python3.6/site-packages/keras/callbacks.py:432: RuntimeWarning: Can save best model only with val_accuracy available, skipping.\n",
      "  'skipping.' % (self.monitor), RuntimeWarning)\n"
     ]
    },
    {
     "name": "stdout",
     "output_type": "stream",
     "text": [
      "Epoch 52/64\n",
      "724/724 [==============================] - 131s 181ms/step - loss: 0.4201 - acc: 0.8335 - val_loss: 0.5800 - val_acc: 0.7867\n"
     ]
    },
    {
     "name": "stderr",
     "output_type": "stream",
     "text": [
      "/usr/local/lib/python3.6/site-packages/keras/callbacks.py:432: RuntimeWarning: Can save best model only with val_accuracy available, skipping.\n",
      "  'skipping.' % (self.monitor), RuntimeWarning)\n"
     ]
    },
    {
     "name": "stdout",
     "output_type": "stream",
     "text": [
      "Epoch 53/64\n",
      "724/724 [==============================] - 132s 183ms/step - loss: 0.4160 - acc: 0.8356 - val_loss: 0.5493 - val_acc: 0.8004\n"
     ]
    },
    {
     "name": "stderr",
     "output_type": "stream",
     "text": [
      "/usr/local/lib/python3.6/site-packages/keras/callbacks.py:432: RuntimeWarning: Can save best model only with val_accuracy available, skipping.\n",
      "  'skipping.' % (self.monitor), RuntimeWarning)\n"
     ]
    },
    {
     "name": "stdout",
     "output_type": "stream",
     "text": [
      "Epoch 54/64\n",
      "724/724 [==============================] - 132s 182ms/step - loss: 0.4152 - acc: 0.8337 - val_loss: 0.5026 - val_acc: 0.8078\n",
      "Epoch 55/64\n"
     ]
    },
    {
     "name": "stderr",
     "output_type": "stream",
     "text": [
      "/usr/local/lib/python3.6/site-packages/keras/callbacks.py:432: RuntimeWarning: Can save best model only with val_accuracy available, skipping.\n",
      "  'skipping.' % (self.monitor), RuntimeWarning)\n"
     ]
    },
    {
     "name": "stdout",
     "output_type": "stream",
     "text": [
      "724/724 [==============================] - 131s 181ms/step - loss: 0.4164 - acc: 0.8359 - val_loss: 0.6139 - val_acc: 0.7711\n"
     ]
    },
    {
     "name": "stderr",
     "output_type": "stream",
     "text": [
      "/usr/local/lib/python3.6/site-packages/keras/callbacks.py:432: RuntimeWarning: Can save best model only with val_accuracy available, skipping.\n",
      "  'skipping.' % (self.monitor), RuntimeWarning)\n"
     ]
    },
    {
     "name": "stdout",
     "output_type": "stream",
     "text": [
      "Epoch 56/64\n",
      "724/724 [==============================] - 131s 181ms/step - loss: 0.4172 - acc: 0.8353 - val_loss: 0.5015 - val_acc: 0.8070\n"
     ]
    },
    {
     "name": "stderr",
     "output_type": "stream",
     "text": [
      "/usr/local/lib/python3.6/site-packages/keras/callbacks.py:432: RuntimeWarning: Can save best model only with val_accuracy available, skipping.\n",
      "  'skipping.' % (self.monitor), RuntimeWarning)\n"
     ]
    },
    {
     "name": "stdout",
     "output_type": "stream",
     "text": [
      "Epoch 57/64\n",
      "724/724 [==============================] - 131s 181ms/step - loss: 0.4046 - acc: 0.8389 - val_loss: 0.5511 - val_acc: 0.7840\n"
     ]
    },
    {
     "name": "stderr",
     "output_type": "stream",
     "text": [
      "/usr/local/lib/python3.6/site-packages/keras/callbacks.py:432: RuntimeWarning: Can save best model only with val_accuracy available, skipping.\n",
      "  'skipping.' % (self.monitor), RuntimeWarning)\n"
     ]
    },
    {
     "name": "stdout",
     "output_type": "stream",
     "text": [
      "Epoch 58/64\n",
      "724/724 [==============================] - 131s 182ms/step - loss: 0.4138 - acc: 0.8356 - val_loss: 0.5460 - val_acc: 0.7945\n"
     ]
    },
    {
     "name": "stderr",
     "output_type": "stream",
     "text": [
      "/usr/local/lib/python3.6/site-packages/keras/callbacks.py:432: RuntimeWarning: Can save best model only with val_accuracy available, skipping.\n",
      "  'skipping.' % (self.monitor), RuntimeWarning)\n"
     ]
    },
    {
     "name": "stdout",
     "output_type": "stream",
     "text": [
      "Epoch 59/64\n",
      "724/724 [==============================] - 130s 179ms/step - loss: 0.4127 - acc: 0.8369 - val_loss: 0.5271 - val_acc: 0.8047\n"
     ]
    },
    {
     "name": "stderr",
     "output_type": "stream",
     "text": [
      "/usr/local/lib/python3.6/site-packages/keras/callbacks.py:432: RuntimeWarning: Can save best model only with val_accuracy available, skipping.\n",
      "  'skipping.' % (self.monitor), RuntimeWarning)\n"
     ]
    },
    {
     "name": "stdout",
     "output_type": "stream",
     "text": [
      "Epoch 60/64\n",
      "724/724 [==============================] - 132s 182ms/step - loss: 0.4106 - acc: 0.8396 - val_loss: 0.5245 - val_acc: 0.7930\n"
     ]
    },
    {
     "name": "stderr",
     "output_type": "stream",
     "text": [
      "/usr/local/lib/python3.6/site-packages/keras/callbacks.py:432: RuntimeWarning: Can save best model only with val_accuracy available, skipping.\n",
      "  'skipping.' % (self.monitor), RuntimeWarning)\n"
     ]
    },
    {
     "name": "stdout",
     "output_type": "stream",
     "text": [
      "Epoch 61/64\n",
      "724/724 [==============================] - 129s 178ms/step - loss: 0.4000 - acc: 0.8417 - val_loss: 0.5277 - val_acc: 0.8004\n",
      "Epoch 62/64\n"
     ]
    },
    {
     "name": "stderr",
     "output_type": "stream",
     "text": [
      "/usr/local/lib/python3.6/site-packages/keras/callbacks.py:432: RuntimeWarning: Can save best model only with val_accuracy available, skipping.\n",
      "  'skipping.' % (self.monitor), RuntimeWarning)\n"
     ]
    },
    {
     "name": "stdout",
     "output_type": "stream",
     "text": [
      "724/724 [==============================] - 131s 181ms/step - loss: 0.3919 - acc: 0.8443 - val_loss: 0.5784 - val_acc: 0.7871\n"
     ]
    },
    {
     "name": "stderr",
     "output_type": "stream",
     "text": [
      "/usr/local/lib/python3.6/site-packages/keras/callbacks.py:432: RuntimeWarning: Can save best model only with val_accuracy available, skipping.\n",
      "  'skipping.' % (self.monitor), RuntimeWarning)\n"
     ]
    },
    {
     "name": "stdout",
     "output_type": "stream",
     "text": [
      "Epoch 63/64\n",
      "724/724 [==============================] - 130s 180ms/step - loss: 0.3933 - acc: 0.8433 - val_loss: 0.5149 - val_acc: 0.8063\n"
     ]
    },
    {
     "name": "stderr",
     "output_type": "stream",
     "text": [
      "/usr/local/lib/python3.6/site-packages/keras/callbacks.py:432: RuntimeWarning: Can save best model only with val_accuracy available, skipping.\n",
      "  'skipping.' % (self.monitor), RuntimeWarning)\n"
     ]
    },
    {
     "name": "stdout",
     "output_type": "stream",
     "text": [
      "Epoch 64/64\n",
      "724/724 [==============================] - 130s 180ms/step - loss: 0.4043 - acc: 0.8400 - val_loss: 0.4964 - val_acc: 0.8105\n"
     ]
    },
    {
     "name": "stderr",
     "output_type": "stream",
     "text": [
      "/usr/local/lib/python3.6/site-packages/keras/callbacks.py:432: RuntimeWarning: Can save best model only with val_accuracy available, skipping.\n",
      "  'skipping.' % (self.monitor), RuntimeWarning)\n"
     ]
    },
    {
     "name": "stdout",
     "output_type": "stream",
     "text": [
      "saving the model\n",
      "[INFO] evaluating network...\n",
      "              precision    recall  f1-score   support\n",
      "\n",
      "           0       0.85      0.69      0.76      1984\n",
      "           1       0.93      0.88      0.90      2810\n",
      "           2       0.64      0.84      0.72      1652\n",
      "\n",
      "   micro avg       0.81      0.81      0.81      6446\n",
      "   macro avg       0.80      0.80      0.79      6446\n",
      "weighted avg       0.83      0.81      0.81      6446\n",
      "\n",
      "[[1367   94  523]\n",
      " [  81 2467  262]\n",
      " [ 166  104 1382]]\n",
      "acc: 0.5948\n",
      "sensitivity: 0.9357\n",
      "specificity: 0.9682\n"
     ]
    }
   ],
   "source": [
    "import train_model\n",
    "#class weight using adam with differnt value 0.6 to save best model\n",
    "# epoch = 64"
   ]
  },
  {
   "cell_type": "code",
   "execution_count": null,
   "metadata": {},
   "outputs": [
    {
     "name": "stderr",
     "output_type": "stream",
     "text": [
      "Using TensorFlow backend.\n"
     ]
    },
    {
     "name": "stdout",
     "output_type": "stream",
     "text": [
      "printing class weight to account for skew in the labeled data\n",
      "[1.3902608 1.        1.6794034]\n",
      "Found 23196 images belonging to 3 classes.\n",
      "Found 2577 images belonging to 3 classes.\n",
      "Found 6446 images belonging to 3 classes.\n",
      "Epoch 1/70\n",
      "724/724 [==============================] - 199s 274ms/step - loss: 0.9058 - acc: 0.6198 - val_loss: 1.3829 - val_acc: 0.6344\n",
      "Epoch 2/70\n",
      "  1/724 [..............................] - ETA: 1:59 - loss: 0.9979 - acc: 0.5312"
     ]
    },
    {
     "name": "stderr",
     "output_type": "stream",
     "text": [
      "/usr/local/lib/python3.6/site-packages/keras/callbacks.py:432: RuntimeWarning: Can save best model only with val_accuracy available, skipping.\n",
      "  'skipping.' % (self.monitor), RuntimeWarning)\n"
     ]
    },
    {
     "name": "stdout",
     "output_type": "stream",
     "text": [
      "724/724 [==============================] - 131s 181ms/step - loss: 0.7429 - acc: 0.6738 - val_loss: 0.7969 - val_acc: 0.6523\n",
      "Epoch 3/70\n",
      "724/724 [==============================] - 130s 179ms/step - loss: 0.7135 - acc: 0.6869 - val_loss: 0.7887 - val_acc: 0.6613\n"
     ]
    },
    {
     "name": "stderr",
     "output_type": "stream",
     "text": [
      "/usr/local/lib/python3.6/site-packages/keras/callbacks.py:432: RuntimeWarning: Can save best model only with val_accuracy available, skipping.\n",
      "  'skipping.' % (self.monitor), RuntimeWarning)\n"
     ]
    },
    {
     "name": "stdout",
     "output_type": "stream",
     "text": [
      "Epoch 4/70\n",
      "724/724 [==============================] - 131s 181ms/step - loss: 0.6686 - acc: 0.7120 - val_loss: 0.6760 - val_acc: 0.7281\n"
     ]
    },
    {
     "name": "stderr",
     "output_type": "stream",
     "text": [
      "/usr/local/lib/python3.6/site-packages/keras/callbacks.py:432: RuntimeWarning: Can save best model only with val_accuracy available, skipping.\n",
      "  'skipping.' % (self.monitor), RuntimeWarning)\n"
     ]
    },
    {
     "name": "stdout",
     "output_type": "stream",
     "text": [
      "Epoch 5/70\n",
      "724/724 [==============================] - 130s 180ms/step - loss: 0.6558 - acc: 0.7176 - val_loss: 0.8277 - val_acc: 0.6941\n"
     ]
    },
    {
     "name": "stderr",
     "output_type": "stream",
     "text": [
      "/usr/local/lib/python3.6/site-packages/keras/callbacks.py:432: RuntimeWarning: Can save best model only with val_accuracy available, skipping.\n",
      "  'skipping.' % (self.monitor), RuntimeWarning)\n"
     ]
    },
    {
     "name": "stdout",
     "output_type": "stream",
     "text": [
      "Epoch 6/70\n",
      "724/724 [==============================] - 130s 179ms/step - loss: 0.6293 - acc: 0.7326 - val_loss: 0.7208 - val_acc: 0.7254\n"
     ]
    },
    {
     "name": "stderr",
     "output_type": "stream",
     "text": [
      "/usr/local/lib/python3.6/site-packages/keras/callbacks.py:432: RuntimeWarning: Can save best model only with val_accuracy available, skipping.\n",
      "  'skipping.' % (self.monitor), RuntimeWarning)\n"
     ]
    },
    {
     "name": "stdout",
     "output_type": "stream",
     "text": [
      "Epoch 7/70\n",
      "724/724 [==============================] - 132s 183ms/step - loss: 0.6138 - acc: 0.7451 - val_loss: 0.7047 - val_acc: 0.7328\n"
     ]
    },
    {
     "name": "stderr",
     "output_type": "stream",
     "text": [
      "/usr/local/lib/python3.6/site-packages/keras/callbacks.py:432: RuntimeWarning: Can save best model only with val_accuracy available, skipping.\n",
      "  'skipping.' % (self.monitor), RuntimeWarning)\n"
     ]
    },
    {
     "name": "stdout",
     "output_type": "stream",
     "text": [
      "Epoch 8/70\n",
      "724/724 [==============================] - 132s 182ms/step - loss: 0.6039 - acc: 0.7480 - val_loss: 0.8165 - val_acc: 0.7152\n"
     ]
    },
    {
     "name": "stderr",
     "output_type": "stream",
     "text": [
      "/usr/local/lib/python3.6/site-packages/keras/callbacks.py:432: RuntimeWarning: Can save best model only with val_accuracy available, skipping.\n",
      "  'skipping.' % (self.monitor), RuntimeWarning)\n"
     ]
    },
    {
     "name": "stdout",
     "output_type": "stream",
     "text": [
      "Epoch 9/70\n",
      "724/724 [==============================] - 131s 180ms/step - loss: 0.6095 - acc: 0.7484 - val_loss: 0.9518 - val_acc: 0.6609\n"
     ]
    },
    {
     "name": "stderr",
     "output_type": "stream",
     "text": [
      "/usr/local/lib/python3.6/site-packages/keras/callbacks.py:432: RuntimeWarning: Can save best model only with val_accuracy available, skipping.\n",
      "  'skipping.' % (self.monitor), RuntimeWarning)\n"
     ]
    },
    {
     "name": "stdout",
     "output_type": "stream",
     "text": [
      "Epoch 10/70\n",
      "724/724 [==============================] - 129s 178ms/step - loss: 0.5889 - acc: 0.7581 - val_loss: 0.7320 - val_acc: 0.7312\n"
     ]
    },
    {
     "name": "stderr",
     "output_type": "stream",
     "text": [
      "/usr/local/lib/python3.6/site-packages/keras/callbacks.py:432: RuntimeWarning: Can save best model only with val_accuracy available, skipping.\n",
      "  'skipping.' % (self.monitor), RuntimeWarning)\n"
     ]
    },
    {
     "name": "stdout",
     "output_type": "stream",
     "text": [
      "Epoch 11/70\n",
      "724/724 [==============================] - 131s 181ms/step - loss: 0.5810 - acc: 0.7609 - val_loss: 0.8585 - val_acc: 0.6734\n"
     ]
    },
    {
     "name": "stderr",
     "output_type": "stream",
     "text": [
      "/usr/local/lib/python3.6/site-packages/keras/callbacks.py:432: RuntimeWarning: Can save best model only with val_accuracy available, skipping.\n",
      "  'skipping.' % (self.monitor), RuntimeWarning)\n"
     ]
    },
    {
     "name": "stdout",
     "output_type": "stream",
     "text": [
      "Epoch 12/70\n",
      "724/724 [==============================] - 130s 179ms/step - loss: 0.6044 - acc: 0.7483 - val_loss: 0.5694 - val_acc: 0.7688\n"
     ]
    },
    {
     "name": "stderr",
     "output_type": "stream",
     "text": [
      "/usr/local/lib/python3.6/site-packages/keras/callbacks.py:432: RuntimeWarning: Can save best model only with val_accuracy available, skipping.\n",
      "  'skipping.' % (self.monitor), RuntimeWarning)\n"
     ]
    },
    {
     "name": "stdout",
     "output_type": "stream",
     "text": [
      "Epoch 13/70\n",
      "724/724 [==============================] - 129s 178ms/step - loss: 0.5649 - acc: 0.7649 - val_loss: 1.6375 - val_acc: 0.4953\n"
     ]
    },
    {
     "name": "stderr",
     "output_type": "stream",
     "text": [
      "/usr/local/lib/python3.6/site-packages/keras/callbacks.py:432: RuntimeWarning: Can save best model only with val_accuracy available, skipping.\n",
      "  'skipping.' % (self.monitor), RuntimeWarning)\n"
     ]
    },
    {
     "name": "stdout",
     "output_type": "stream",
     "text": [
      "Epoch 14/70\n",
      "724/724 [==============================] - 131s 181ms/step - loss: 0.5554 - acc: 0.7705 - val_loss: 0.6468 - val_acc: 0.7562\n"
     ]
    },
    {
     "name": "stderr",
     "output_type": "stream",
     "text": [
      "/usr/local/lib/python3.6/site-packages/keras/callbacks.py:432: RuntimeWarning: Can save best model only with val_accuracy available, skipping.\n",
      "  'skipping.' % (self.monitor), RuntimeWarning)\n"
     ]
    },
    {
     "name": "stdout",
     "output_type": "stream",
     "text": [
      "Epoch 15/70\n",
      "724/724 [==============================] - 130s 179ms/step - loss: 0.5708 - acc: 0.7667 - val_loss: 0.5668 - val_acc: 0.7781\n"
     ]
    },
    {
     "name": "stderr",
     "output_type": "stream",
     "text": [
      "/usr/local/lib/python3.6/site-packages/keras/callbacks.py:432: RuntimeWarning: Can save best model only with val_accuracy available, skipping.\n",
      "  'skipping.' % (self.monitor), RuntimeWarning)\n"
     ]
    },
    {
     "name": "stdout",
     "output_type": "stream",
     "text": [
      "Epoch 16/70\n",
      "724/724 [==============================] - 129s 178ms/step - loss: 0.5469 - acc: 0.7757 - val_loss: 0.5711 - val_acc: 0.7672\n"
     ]
    },
    {
     "name": "stderr",
     "output_type": "stream",
     "text": [
      "/usr/local/lib/python3.6/site-packages/keras/callbacks.py:432: RuntimeWarning: Can save best model only with val_accuracy available, skipping.\n",
      "  'skipping.' % (self.monitor), RuntimeWarning)\n"
     ]
    },
    {
     "name": "stdout",
     "output_type": "stream",
     "text": [
      "Epoch 17/70\n",
      "724/724 [==============================] - 129s 178ms/step - loss: 0.5379 - acc: 0.7831 - val_loss: 0.6779 - val_acc: 0.7371\n"
     ]
    },
    {
     "name": "stderr",
     "output_type": "stream",
     "text": [
      "/usr/local/lib/python3.6/site-packages/keras/callbacks.py:432: RuntimeWarning: Can save best model only with val_accuracy available, skipping.\n",
      "  'skipping.' % (self.monitor), RuntimeWarning)\n"
     ]
    },
    {
     "name": "stdout",
     "output_type": "stream",
     "text": [
      "Epoch 18/70\n",
      "724/724 [==============================] - 129s 179ms/step - loss: 0.5746 - acc: 0.7635 - val_loss: 0.9328 - val_acc: 0.6852\n"
     ]
    },
    {
     "name": "stderr",
     "output_type": "stream",
     "text": [
      "/usr/local/lib/python3.6/site-packages/keras/callbacks.py:432: RuntimeWarning: Can save best model only with val_accuracy available, skipping.\n",
      "  'skipping.' % (self.monitor), RuntimeWarning)\n"
     ]
    },
    {
     "name": "stdout",
     "output_type": "stream",
     "text": [
      "Epoch 19/70\n",
      "724/724 [==============================] - 132s 182ms/step - loss: 0.5676 - acc: 0.7681 - val_loss: 0.7030 - val_acc: 0.7262\n"
     ]
    },
    {
     "name": "stderr",
     "output_type": "stream",
     "text": [
      "/usr/local/lib/python3.6/site-packages/keras/callbacks.py:432: RuntimeWarning: Can save best model only with val_accuracy available, skipping.\n",
      "  'skipping.' % (self.monitor), RuntimeWarning)\n"
     ]
    },
    {
     "name": "stdout",
     "output_type": "stream",
     "text": [
      "Epoch 20/70\n",
      "724/724 [==============================] - 129s 179ms/step - loss: 0.5383 - acc: 0.7840 - val_loss: 0.5274 - val_acc: 0.7848\n"
     ]
    },
    {
     "name": "stderr",
     "output_type": "stream",
     "text": [
      "/usr/local/lib/python3.6/site-packages/keras/callbacks.py:432: RuntimeWarning: Can save best model only with val_accuracy available, skipping.\n",
      "  'skipping.' % (self.monitor), RuntimeWarning)\n"
     ]
    },
    {
     "name": "stdout",
     "output_type": "stream",
     "text": [
      "Epoch 21/70\n",
      "724/724 [==============================] - 131s 182ms/step - loss: 0.5432 - acc: 0.7786 - val_loss: 0.6580 - val_acc: 0.7422\n"
     ]
    },
    {
     "name": "stderr",
     "output_type": "stream",
     "text": [
      "/usr/local/lib/python3.6/site-packages/keras/callbacks.py:432: RuntimeWarning: Can save best model only with val_accuracy available, skipping.\n",
      "  'skipping.' % (self.monitor), RuntimeWarning)\n"
     ]
    },
    {
     "name": "stdout",
     "output_type": "stream",
     "text": [
      "Epoch 22/70\n",
      "724/724 [==============================] - 130s 180ms/step - loss: 0.5273 - acc: 0.7865 - val_loss: 0.6717 - val_acc: 0.7352\n"
     ]
    },
    {
     "name": "stderr",
     "output_type": "stream",
     "text": [
      "/usr/local/lib/python3.6/site-packages/keras/callbacks.py:432: RuntimeWarning: Can save best model only with val_accuracy available, skipping.\n",
      "  'skipping.' % (self.monitor), RuntimeWarning)\n"
     ]
    },
    {
     "name": "stdout",
     "output_type": "stream",
     "text": [
      "Epoch 23/70\n",
      "724/724 [==============================] - 130s 180ms/step - loss: 0.5405 - acc: 0.7806 - val_loss: 0.7201 - val_acc: 0.7297\n"
     ]
    },
    {
     "name": "stderr",
     "output_type": "stream",
     "text": [
      "/usr/local/lib/python3.6/site-packages/keras/callbacks.py:432: RuntimeWarning: Can save best model only with val_accuracy available, skipping.\n",
      "  'skipping.' % (self.monitor), RuntimeWarning)\n"
     ]
    },
    {
     "name": "stdout",
     "output_type": "stream",
     "text": [
      "Epoch 24/70\n",
      "724/724 [==============================] - 131s 181ms/step - loss: 0.5230 - acc: 0.7913 - val_loss: 0.7805 - val_acc: 0.7086\n"
     ]
    },
    {
     "name": "stderr",
     "output_type": "stream",
     "text": [
      "/usr/local/lib/python3.6/site-packages/keras/callbacks.py:432: RuntimeWarning: Can save best model only with val_accuracy available, skipping.\n",
      "  'skipping.' % (self.monitor), RuntimeWarning)\n"
     ]
    },
    {
     "name": "stdout",
     "output_type": "stream",
     "text": [
      "Epoch 25/70\n",
      "724/724 [==============================] - 131s 180ms/step - loss: 0.5415 - acc: 0.7784 - val_loss: 0.6250 - val_acc: 0.7480\n"
     ]
    },
    {
     "name": "stderr",
     "output_type": "stream",
     "text": [
      "/usr/local/lib/python3.6/site-packages/keras/callbacks.py:432: RuntimeWarning: Can save best model only with val_accuracy available, skipping.\n",
      "  'skipping.' % (self.monitor), RuntimeWarning)\n"
     ]
    },
    {
     "name": "stdout",
     "output_type": "stream",
     "text": [
      "Epoch 26/70\n",
      "724/724 [==============================] - 130s 180ms/step - loss: 0.5229 - acc: 0.7875 - val_loss: 0.5361 - val_acc: 0.7910\n"
     ]
    },
    {
     "name": "stderr",
     "output_type": "stream",
     "text": [
      "/usr/local/lib/python3.6/site-packages/keras/callbacks.py:432: RuntimeWarning: Can save best model only with val_accuracy available, skipping.\n",
      "  'skipping.' % (self.monitor), RuntimeWarning)\n"
     ]
    },
    {
     "name": "stdout",
     "output_type": "stream",
     "text": [
      "Epoch 27/70\n",
      "724/724 [==============================] - 130s 180ms/step - loss: 0.5126 - acc: 0.7924 - val_loss: 0.6618 - val_acc: 0.7402\n"
     ]
    },
    {
     "name": "stderr",
     "output_type": "stream",
     "text": [
      "/usr/local/lib/python3.6/site-packages/keras/callbacks.py:432: RuntimeWarning: Can save best model only with val_accuracy available, skipping.\n",
      "  'skipping.' % (self.monitor), RuntimeWarning)\n"
     ]
    },
    {
     "name": "stdout",
     "output_type": "stream",
     "text": [
      "Epoch 28/70\n",
      "724/724 [==============================] - 130s 180ms/step - loss: 0.4974 - acc: 0.8013 - val_loss: 0.6230 - val_acc: 0.7621\n"
     ]
    },
    {
     "name": "stderr",
     "output_type": "stream",
     "text": [
      "/usr/local/lib/python3.6/site-packages/keras/callbacks.py:432: RuntimeWarning: Can save best model only with val_accuracy available, skipping.\n",
      "  'skipping.' % (self.monitor), RuntimeWarning)\n"
     ]
    },
    {
     "name": "stdout",
     "output_type": "stream",
     "text": [
      "Epoch 29/70\n",
      "724/724 [==============================] - 131s 181ms/step - loss: 0.5095 - acc: 0.7929 - val_loss: 0.5170 - val_acc: 0.7871\n",
      "Epoch 30/70\n"
     ]
    },
    {
     "name": "stderr",
     "output_type": "stream",
     "text": [
      "/usr/local/lib/python3.6/site-packages/keras/callbacks.py:432: RuntimeWarning: Can save best model only with val_accuracy available, skipping.\n",
      "  'skipping.' % (self.monitor), RuntimeWarning)\n"
     ]
    },
    {
     "name": "stdout",
     "output_type": "stream",
     "text": [
      "724/724 [==============================] - 129s 178ms/step - loss: 0.4903 - acc: 0.8031 - val_loss: 0.4934 - val_acc: 0.7988\n"
     ]
    },
    {
     "name": "stderr",
     "output_type": "stream",
     "text": [
      "/usr/local/lib/python3.6/site-packages/keras/callbacks.py:432: RuntimeWarning: Can save best model only with val_accuracy available, skipping.\n",
      "  'skipping.' % (self.monitor), RuntimeWarning)\n"
     ]
    },
    {
     "name": "stdout",
     "output_type": "stream",
     "text": [
      "Epoch 31/70\n",
      "724/724 [==============================] - 131s 181ms/step - loss: 0.4912 - acc: 0.8054 - val_loss: 0.5927 - val_acc: 0.7738\n"
     ]
    },
    {
     "name": "stderr",
     "output_type": "stream",
     "text": [
      "/usr/local/lib/python3.6/site-packages/keras/callbacks.py:432: RuntimeWarning: Can save best model only with val_accuracy available, skipping.\n",
      "  'skipping.' % (self.monitor), RuntimeWarning)\n"
     ]
    },
    {
     "name": "stdout",
     "output_type": "stream",
     "text": [
      "Epoch 32/70\n",
      "724/724 [==============================] - 129s 179ms/step - loss: 0.5089 - acc: 0.7945 - val_loss: 0.5276 - val_acc: 0.7883\n",
      "Epoch 33/70\n"
     ]
    },
    {
     "name": "stderr",
     "output_type": "stream",
     "text": [
      "/usr/local/lib/python3.6/site-packages/keras/callbacks.py:432: RuntimeWarning: Can save best model only with val_accuracy available, skipping.\n",
      "  'skipping.' % (self.monitor), RuntimeWarning)\n"
     ]
    },
    {
     "name": "stdout",
     "output_type": "stream",
     "text": [
      "724/724 [==============================] - 130s 180ms/step - loss: 0.4901 - acc: 0.8025 - val_loss: 0.5660 - val_acc: 0.7750\n"
     ]
    },
    {
     "name": "stderr",
     "output_type": "stream",
     "text": [
      "/usr/local/lib/python3.6/site-packages/keras/callbacks.py:432: RuntimeWarning: Can save best model only with val_accuracy available, skipping.\n",
      "  'skipping.' % (self.monitor), RuntimeWarning)\n"
     ]
    },
    {
     "name": "stdout",
     "output_type": "stream",
     "text": [
      "Epoch 34/70\n",
      "724/724 [==============================] - 130s 179ms/step - loss: 0.5049 - acc: 0.7986 - val_loss: 0.5540 - val_acc: 0.7746\n"
     ]
    },
    {
     "name": "stderr",
     "output_type": "stream",
     "text": [
      "/usr/local/lib/python3.6/site-packages/keras/callbacks.py:432: RuntimeWarning: Can save best model only with val_accuracy available, skipping.\n",
      "  'skipping.' % (self.monitor), RuntimeWarning)\n"
     ]
    },
    {
     "name": "stdout",
     "output_type": "stream",
     "text": [
      "Epoch 35/70\n",
      "724/724 [==============================] - 129s 179ms/step - loss: 0.4796 - acc: 0.8067 - val_loss: 0.4929 - val_acc: 0.8031\n"
     ]
    },
    {
     "name": "stderr",
     "output_type": "stream",
     "text": [
      "/usr/local/lib/python3.6/site-packages/keras/callbacks.py:432: RuntimeWarning: Can save best model only with val_accuracy available, skipping.\n",
      "  'skipping.' % (self.monitor), RuntimeWarning)\n"
     ]
    },
    {
     "name": "stdout",
     "output_type": "stream",
     "text": [
      "Epoch 36/70\n",
      "724/724 [==============================] - 130s 180ms/step - loss: 0.4868 - acc: 0.8037 - val_loss: 0.5550 - val_acc: 0.7816\n"
     ]
    },
    {
     "name": "stderr",
     "output_type": "stream",
     "text": [
      "/usr/local/lib/python3.6/site-packages/keras/callbacks.py:432: RuntimeWarning: Can save best model only with val_accuracy available, skipping.\n",
      "  'skipping.' % (self.monitor), RuntimeWarning)\n"
     ]
    },
    {
     "name": "stdout",
     "output_type": "stream",
     "text": [
      "Epoch 37/70\n",
      "724/724 [==============================] - 128s 176ms/step - loss: 0.4783 - acc: 0.8091 - val_loss: 0.5581 - val_acc: 0.7773\n",
      "Epoch 38/70\n"
     ]
    },
    {
     "name": "stderr",
     "output_type": "stream",
     "text": [
      "/usr/local/lib/python3.6/site-packages/keras/callbacks.py:432: RuntimeWarning: Can save best model only with val_accuracy available, skipping.\n",
      "  'skipping.' % (self.monitor), RuntimeWarning)\n"
     ]
    },
    {
     "name": "stdout",
     "output_type": "stream",
     "text": [
      "724/724 [==============================] - 131s 182ms/step - loss: 0.4666 - acc: 0.8131 - val_loss: 0.6741 - val_acc: 0.7465\n"
     ]
    },
    {
     "name": "stderr",
     "output_type": "stream",
     "text": [
      "/usr/local/lib/python3.6/site-packages/keras/callbacks.py:432: RuntimeWarning: Can save best model only with val_accuracy available, skipping.\n",
      "  'skipping.' % (self.monitor), RuntimeWarning)\n"
     ]
    },
    {
     "name": "stdout",
     "output_type": "stream",
     "text": [
      "Epoch 39/70\n",
      "724/724 [==============================] - 129s 178ms/step - loss: 0.4689 - acc: 0.8153 - val_loss: 0.6103 - val_acc: 0.7707\n"
     ]
    },
    {
     "name": "stderr",
     "output_type": "stream",
     "text": [
      "/usr/local/lib/python3.6/site-packages/keras/callbacks.py:432: RuntimeWarning: Can save best model only with val_accuracy available, skipping.\n",
      "  'skipping.' % (self.monitor), RuntimeWarning)\n"
     ]
    },
    {
     "name": "stdout",
     "output_type": "stream",
     "text": [
      "Epoch 40/70\n",
      "724/724 [==============================] - 129s 178ms/step - loss: 0.4724 - acc: 0.8108 - val_loss: 0.4954 - val_acc: 0.8008\n",
      "Epoch 41/70\n"
     ]
    },
    {
     "name": "stderr",
     "output_type": "stream",
     "text": [
      "/usr/local/lib/python3.6/site-packages/keras/callbacks.py:432: RuntimeWarning: Can save best model only with val_accuracy available, skipping.\n",
      "  'skipping.' % (self.monitor), RuntimeWarning)\n"
     ]
    },
    {
     "name": "stdout",
     "output_type": "stream",
     "text": [
      "724/724 [==============================] - 129s 179ms/step - loss: 0.4731 - acc: 0.8093 - val_loss: 0.5271 - val_acc: 0.7914\n"
     ]
    },
    {
     "name": "stderr",
     "output_type": "stream",
     "text": [
      "/usr/local/lib/python3.6/site-packages/keras/callbacks.py:432: RuntimeWarning: Can save best model only with val_accuracy available, skipping.\n",
      "  'skipping.' % (self.monitor), RuntimeWarning)\n"
     ]
    },
    {
     "name": "stdout",
     "output_type": "stream",
     "text": [
      "Epoch 42/70\n",
      "724/724 [==============================] - 131s 180ms/step - loss: 0.4549 - acc: 0.8182 - val_loss: 0.5404 - val_acc: 0.7875\n"
     ]
    },
    {
     "name": "stderr",
     "output_type": "stream",
     "text": [
      "/usr/local/lib/python3.6/site-packages/keras/callbacks.py:432: RuntimeWarning: Can save best model only with val_accuracy available, skipping.\n",
      "  'skipping.' % (self.monitor), RuntimeWarning)\n"
     ]
    },
    {
     "name": "stdout",
     "output_type": "stream",
     "text": [
      "Epoch 43/70\n",
      "724/724 [==============================] - 129s 178ms/step - loss: 0.4634 - acc: 0.8149 - val_loss: 0.4769 - val_acc: 0.8148\n"
     ]
    },
    {
     "name": "stderr",
     "output_type": "stream",
     "text": [
      "/usr/local/lib/python3.6/site-packages/keras/callbacks.py:432: RuntimeWarning: Can save best model only with val_accuracy available, skipping.\n",
      "  'skipping.' % (self.monitor), RuntimeWarning)\n"
     ]
    },
    {
     "name": "stdout",
     "output_type": "stream",
     "text": [
      "Epoch 44/70\n",
      "724/724 [==============================] - 129s 178ms/step - loss: 0.4534 - acc: 0.8185 - val_loss: 0.6852 - val_acc: 0.7340\n"
     ]
    },
    {
     "name": "stderr",
     "output_type": "stream",
     "text": [
      "/usr/local/lib/python3.6/site-packages/keras/callbacks.py:432: RuntimeWarning: Can save best model only with val_accuracy available, skipping.\n",
      "  'skipping.' % (self.monitor), RuntimeWarning)\n"
     ]
    },
    {
     "name": "stdout",
     "output_type": "stream",
     "text": [
      "Epoch 45/70\n",
      "724/724 [==============================] - 129s 178ms/step - loss: 0.4547 - acc: 0.8190 - val_loss: 0.5265 - val_acc: 0.7926\n"
     ]
    },
    {
     "name": "stderr",
     "output_type": "stream",
     "text": [
      "/usr/local/lib/python3.6/site-packages/keras/callbacks.py:432: RuntimeWarning: Can save best model only with val_accuracy available, skipping.\n",
      "  'skipping.' % (self.monitor), RuntimeWarning)\n"
     ]
    },
    {
     "name": "stdout",
     "output_type": "stream",
     "text": [
      "Epoch 46/70\n",
      "724/724 [==============================] - 129s 178ms/step - loss: 0.4553 - acc: 0.8185 - val_loss: 0.5673 - val_acc: 0.7766\n"
     ]
    },
    {
     "name": "stderr",
     "output_type": "stream",
     "text": [
      "/usr/local/lib/python3.6/site-packages/keras/callbacks.py:432: RuntimeWarning: Can save best model only with val_accuracy available, skipping.\n",
      "  'skipping.' % (self.monitor), RuntimeWarning)\n"
     ]
    },
    {
     "name": "stdout",
     "output_type": "stream",
     "text": [
      "Epoch 47/70\n",
      "724/724 [==============================] - 128s 177ms/step - loss: 0.4467 - acc: 0.8213 - val_loss: 0.4888 - val_acc: 0.8105\n"
     ]
    },
    {
     "name": "stderr",
     "output_type": "stream",
     "text": [
      "/usr/local/lib/python3.6/site-packages/keras/callbacks.py:432: RuntimeWarning: Can save best model only with val_accuracy available, skipping.\n",
      "  'skipping.' % (self.monitor), RuntimeWarning)\n"
     ]
    },
    {
     "name": "stdout",
     "output_type": "stream",
     "text": [
      "Epoch 48/70\n",
      "724/724 [==============================] - 130s 179ms/step - loss: 0.4478 - acc: 0.8224 - val_loss: 0.5006 - val_acc: 0.8000\n"
     ]
    },
    {
     "name": "stderr",
     "output_type": "stream",
     "text": [
      "/usr/local/lib/python3.6/site-packages/keras/callbacks.py:432: RuntimeWarning: Can save best model only with val_accuracy available, skipping.\n",
      "  'skipping.' % (self.monitor), RuntimeWarning)\n"
     ]
    },
    {
     "name": "stdout",
     "output_type": "stream",
     "text": [
      "Epoch 49/70\n",
      "724/724 [==============================] - 130s 180ms/step - loss: 0.4471 - acc: 0.8193 - val_loss: 0.5385 - val_acc: 0.7965\n"
     ]
    },
    {
     "name": "stderr",
     "output_type": "stream",
     "text": [
      "/usr/local/lib/python3.6/site-packages/keras/callbacks.py:432: RuntimeWarning: Can save best model only with val_accuracy available, skipping.\n",
      "  'skipping.' % (self.monitor), RuntimeWarning)\n"
     ]
    },
    {
     "name": "stdout",
     "output_type": "stream",
     "text": [
      "Epoch 50/70\n",
      "724/724 [==============================] - 132s 182ms/step - loss: 0.4473 - acc: 0.8215 - val_loss: 0.5819 - val_acc: 0.7797\n"
     ]
    },
    {
     "name": "stderr",
     "output_type": "stream",
     "text": [
      "/usr/local/lib/python3.6/site-packages/keras/callbacks.py:432: RuntimeWarning: Can save best model only with val_accuracy available, skipping.\n",
      "  'skipping.' % (self.monitor), RuntimeWarning)\n"
     ]
    },
    {
     "name": "stdout",
     "output_type": "stream",
     "text": [
      "Epoch 51/70\n",
      "724/724 [==============================] - 131s 181ms/step - loss: 0.4515 - acc: 0.8219 - val_loss: 0.5576 - val_acc: 0.7805\n"
     ]
    },
    {
     "name": "stderr",
     "output_type": "stream",
     "text": [
      "/usr/local/lib/python3.6/site-packages/keras/callbacks.py:432: RuntimeWarning: Can save best model only with val_accuracy available, skipping.\n",
      "  'skipping.' % (self.monitor), RuntimeWarning)\n"
     ]
    },
    {
     "name": "stdout",
     "output_type": "stream",
     "text": [
      "Epoch 52/70\n",
      "724/724 [==============================] - 130s 180ms/step - loss: 0.4331 - acc: 0.8263 - val_loss: 0.5452 - val_acc: 0.7937\n"
     ]
    },
    {
     "name": "stderr",
     "output_type": "stream",
     "text": [
      "/usr/local/lib/python3.6/site-packages/keras/callbacks.py:432: RuntimeWarning: Can save best model only with val_accuracy available, skipping.\n",
      "  'skipping.' % (self.monitor), RuntimeWarning)\n"
     ]
    },
    {
     "name": "stdout",
     "output_type": "stream",
     "text": [
      "Epoch 53/70\n",
      "724/724 [==============================] - 130s 180ms/step - loss: 0.4296 - acc: 0.8308 - val_loss: 0.6181 - val_acc: 0.7711\n"
     ]
    },
    {
     "name": "stderr",
     "output_type": "stream",
     "text": [
      "/usr/local/lib/python3.6/site-packages/keras/callbacks.py:432: RuntimeWarning: Can save best model only with val_accuracy available, skipping.\n",
      "  'skipping.' % (self.monitor), RuntimeWarning)\n"
     ]
    },
    {
     "name": "stdout",
     "output_type": "stream",
     "text": [
      "Epoch 54/70\n",
      "724/724 [==============================] - 130s 179ms/step - loss: 0.4338 - acc: 0.8263 - val_loss: 0.7036 - val_acc: 0.7344\n"
     ]
    },
    {
     "name": "stderr",
     "output_type": "stream",
     "text": [
      "/usr/local/lib/python3.6/site-packages/keras/callbacks.py:432: RuntimeWarning: Can save best model only with val_accuracy available, skipping.\n",
      "  'skipping.' % (self.monitor), RuntimeWarning)\n"
     ]
    },
    {
     "name": "stdout",
     "output_type": "stream",
     "text": [
      "Epoch 55/70\n",
      "724/724 [==============================] - 129s 178ms/step - loss: 0.4287 - acc: 0.8304 - val_loss: 0.4714 - val_acc: 0.8141\n"
     ]
    },
    {
     "name": "stderr",
     "output_type": "stream",
     "text": [
      "/usr/local/lib/python3.6/site-packages/keras/callbacks.py:432: RuntimeWarning: Can save best model only with val_accuracy available, skipping.\n",
      "  'skipping.' % (self.monitor), RuntimeWarning)\n"
     ]
    },
    {
     "name": "stdout",
     "output_type": "stream",
     "text": [
      "Epoch 56/70\n",
      "724/724 [==============================] - 130s 180ms/step - loss: 0.4230 - acc: 0.8330 - val_loss: 0.6513 - val_acc: 0.7652\n"
     ]
    },
    {
     "name": "stderr",
     "output_type": "stream",
     "text": [
      "/usr/local/lib/python3.6/site-packages/keras/callbacks.py:432: RuntimeWarning: Can save best model only with val_accuracy available, skipping.\n",
      "  'skipping.' % (self.monitor), RuntimeWarning)\n"
     ]
    },
    {
     "name": "stdout",
     "output_type": "stream",
     "text": [
      "Epoch 57/70\n",
      "724/724 [==============================] - 132s 182ms/step - loss: 0.4233 - acc: 0.8338 - val_loss: 0.4667 - val_acc: 0.8168\n"
     ]
    },
    {
     "name": "stderr",
     "output_type": "stream",
     "text": [
      "/usr/local/lib/python3.6/site-packages/keras/callbacks.py:432: RuntimeWarning: Can save best model only with val_accuracy available, skipping.\n",
      "  'skipping.' % (self.monitor), RuntimeWarning)\n"
     ]
    },
    {
     "name": "stdout",
     "output_type": "stream",
     "text": [
      "Epoch 58/70\n",
      "724/724 [==============================] - 130s 179ms/step - loss: 0.4272 - acc: 0.8330 - val_loss: 0.6212 - val_acc: 0.7602\n"
     ]
    },
    {
     "name": "stderr",
     "output_type": "stream",
     "text": [
      "/usr/local/lib/python3.6/site-packages/keras/callbacks.py:432: RuntimeWarning: Can save best model only with val_accuracy available, skipping.\n",
      "  'skipping.' % (self.monitor), RuntimeWarning)\n"
     ]
    },
    {
     "name": "stdout",
     "output_type": "stream",
     "text": [
      "Epoch 59/70\n",
      "724/724 [==============================] - 130s 179ms/step - loss: 0.4226 - acc: 0.8313 - val_loss: 0.4974 - val_acc: 0.7926\n"
     ]
    },
    {
     "name": "stderr",
     "output_type": "stream",
     "text": [
      "/usr/local/lib/python3.6/site-packages/keras/callbacks.py:432: RuntimeWarning: Can save best model only with val_accuracy available, skipping.\n",
      "  'skipping.' % (self.monitor), RuntimeWarning)\n"
     ]
    },
    {
     "name": "stdout",
     "output_type": "stream",
     "text": [
      "Epoch 60/70\n",
      "724/724 [==============================] - 130s 179ms/step - loss: 0.4149 - acc: 0.8367 - val_loss: 0.5243 - val_acc: 0.7844\n"
     ]
    },
    {
     "name": "stderr",
     "output_type": "stream",
     "text": [
      "/usr/local/lib/python3.6/site-packages/keras/callbacks.py:432: RuntimeWarning: Can save best model only with val_accuracy available, skipping.\n",
      "  'skipping.' % (self.monitor), RuntimeWarning)\n"
     ]
    },
    {
     "name": "stdout",
     "output_type": "stream",
     "text": [
      "Epoch 61/70\n",
      "724/724 [==============================] - 129s 178ms/step - loss: 0.4259 - acc: 0.8336 - val_loss: 0.6221 - val_acc: 0.7676\n"
     ]
    },
    {
     "name": "stderr",
     "output_type": "stream",
     "text": [
      "/usr/local/lib/python3.6/site-packages/keras/callbacks.py:432: RuntimeWarning: Can save best model only with val_accuracy available, skipping.\n",
      "  'skipping.' % (self.monitor), RuntimeWarning)\n"
     ]
    },
    {
     "name": "stdout",
     "output_type": "stream",
     "text": [
      "Epoch 62/70\n",
      "724/724 [==============================] - 130s 180ms/step - loss: 0.4195 - acc: 0.8294 - val_loss: 0.5006 - val_acc: 0.8121\n"
     ]
    },
    {
     "name": "stderr",
     "output_type": "stream",
     "text": [
      "/usr/local/lib/python3.6/site-packages/keras/callbacks.py:432: RuntimeWarning: Can save best model only with val_accuracy available, skipping.\n",
      "  'skipping.' % (self.monitor), RuntimeWarning)\n"
     ]
    },
    {
     "name": "stdout",
     "output_type": "stream",
     "text": [
      "Epoch 63/70\n",
      "724/724 [==============================] - 130s 180ms/step - loss: 0.4153 - acc: 0.8368 - val_loss: 0.4901 - val_acc: 0.8152\n"
     ]
    },
    {
     "name": "stderr",
     "output_type": "stream",
     "text": [
      "/usr/local/lib/python3.6/site-packages/keras/callbacks.py:432: RuntimeWarning: Can save best model only with val_accuracy available, skipping.\n",
      "  'skipping.' % (self.monitor), RuntimeWarning)\n"
     ]
    },
    {
     "name": "stdout",
     "output_type": "stream",
     "text": [
      "Epoch 64/70\n",
      "724/724 [==============================] - 129s 178ms/step - loss: 0.4087 - acc: 0.8361 - val_loss: 0.5127 - val_acc: 0.8012\n"
     ]
    },
    {
     "name": "stderr",
     "output_type": "stream",
     "text": [
      "/usr/local/lib/python3.6/site-packages/keras/callbacks.py:432: RuntimeWarning: Can save best model only with val_accuracy available, skipping.\n",
      "  'skipping.' % (self.monitor), RuntimeWarning)\n"
     ]
    },
    {
     "name": "stdout",
     "output_type": "stream",
     "text": [
      "Epoch 65/70\n",
      "724/724 [==============================] - 130s 180ms/step - loss: 0.4087 - acc: 0.8379 - val_loss: 0.5274 - val_acc: 0.7941\n"
     ]
    },
    {
     "name": "stderr",
     "output_type": "stream",
     "text": [
      "/usr/local/lib/python3.6/site-packages/keras/callbacks.py:432: RuntimeWarning: Can save best model only with val_accuracy available, skipping.\n",
      "  'skipping.' % (self.monitor), RuntimeWarning)\n"
     ]
    },
    {
     "name": "stdout",
     "output_type": "stream",
     "text": [
      "Epoch 66/70\n",
      "724/724 [==============================] - 132s 182ms/step - loss: 0.4259 - acc: 0.8299 - val_loss: 0.5536 - val_acc: 0.7977\n"
     ]
    },
    {
     "name": "stderr",
     "output_type": "stream",
     "text": [
      "/usr/local/lib/python3.6/site-packages/keras/callbacks.py:432: RuntimeWarning: Can save best model only with val_accuracy available, skipping.\n",
      "  'skipping.' % (self.monitor), RuntimeWarning)\n"
     ]
    },
    {
     "name": "stdout",
     "output_type": "stream",
     "text": [
      "Epoch 67/70\n",
      "724/724 [==============================] - 129s 179ms/step - loss: 0.3983 - acc: 0.8409 - val_loss: 0.4893 - val_acc: 0.8187\n"
     ]
    },
    {
     "name": "stderr",
     "output_type": "stream",
     "text": [
      "/usr/local/lib/python3.6/site-packages/keras/callbacks.py:432: RuntimeWarning: Can save best model only with val_accuracy available, skipping.\n",
      "  'skipping.' % (self.monitor), RuntimeWarning)\n"
     ]
    },
    {
     "name": "stdout",
     "output_type": "stream",
     "text": [
      "Epoch 68/70\n",
      "724/724 [==============================] - 130s 179ms/step - loss: 0.4098 - acc: 0.8378 - val_loss: 0.5412 - val_acc: 0.7984\n"
     ]
    },
    {
     "name": "stderr",
     "output_type": "stream",
     "text": [
      "/usr/local/lib/python3.6/site-packages/keras/callbacks.py:432: RuntimeWarning: Can save best model only with val_accuracy available, skipping.\n",
      "  'skipping.' % (self.monitor), RuntimeWarning)\n"
     ]
    },
    {
     "name": "stdout",
     "output_type": "stream",
     "text": [
      "Epoch 69/70\n",
      "724/724 [==============================] - 130s 179ms/step - loss: 0.4016 - acc: 0.8410 - val_loss: 0.5178 - val_acc: 0.8121\n"
     ]
    },
    {
     "name": "stderr",
     "output_type": "stream",
     "text": [
      "/usr/local/lib/python3.6/site-packages/keras/callbacks.py:432: RuntimeWarning: Can save best model only with val_accuracy available, skipping.\n",
      "  'skipping.' % (self.monitor), RuntimeWarning)\n"
     ]
    },
    {
     "name": "stdout",
     "output_type": "stream",
     "text": [
      "Epoch 70/70\n",
      "337/724 [============>.................] - ETA: 1:07 - loss: 0.3949 - acc: 0.8429"
     ]
    }
   ],
   "source": [
    "import train_model\n",
    "#class weight using adam with differnt value 0.6 to save best model no class weight\n",
    "# epoch = 70"
   ]
  },
  {
   "cell_type": "code",
   "execution_count": null,
   "metadata": {},
   "outputs": [],
   "source": [
    "# initialize the validation (and testing) data augmentation object\n",
    "valAug = ImageDataGenerator(rescale=1 / 255.0)\n",
    "import config\n",
    "# initialize the testing generator\n",
    "testGen = valAug.flow_from_directory(\n",
    "    config.TEST_PATH,\n",
    "    class_mode=\"categorical\",\n",
    "    target_size=(128, 128),\n",
    "    color_mode=\"rgb\",\n",
    "    shuffle=False,\n",
    "    batch_size=32)\n",
    "\n",
    "# reset the testing generator and then use our trained model to\n",
    "# make predictions on the data\n",
    "print(\"[INFO] evaluating network...\")\n",
    "testGen.reset()\n",
    "predIdxs = model.predict_generator(testGen,\tsteps=(totalTest // BS) + 1)\n",
    "\n",
    "# for each image in the testing set we need to find the index of the\n",
    "# label with corresponding largest predicted probability\n",
    "predIdxs = np.argmax(predIdxs, axis=1)\n",
    "\n",
    "# show a nicely formatted classification report\n",
    "print(classification_report(testGen.classes, predIdxs,target_names=testGen.class_indices.keys()))\n",
    "\n",
    "# compute the confusion matrix and and use it to derive the raw\n",
    "# accuracy, sensitivity, and specificity\n",
    "cm = confusion_matrix(testGen.classes, predIdxs)\n",
    "total = sum(sum(cm))\n",
    "acc = (cm[0, 0] + cm[1, 1]) / total\n",
    "sensitivity = cm[0, 0] / (cm[0, 0] + cm[0, 1])\n",
    "specificity = cm[1, 1] / (cm[1, 0] + cm[1, 1])\n",
    "\n",
    "# show the confusion matrix, accuracy, sensitivity, and specificity\n",
    "print(cm)\n",
    "print(\"acc: {:.4f}\".format(acc))\n",
    "print(\"sensitivity: {:.4f}\".format(sensitivity))\n",
    "print(\"specificity: {:.4f}\".format(specificity))"
   ]
  }
 ],
 "metadata": {
  "kernelspec": {
   "display_name": "Python 3",
   "language": "python",
   "name": "python3"
  },
  "language_info": {
   "codemirror_mode": {
    "name": "ipython",
    "version": 3
   },
   "file_extension": ".py",
   "mimetype": "text/x-python",
   "name": "python",
   "nbconvert_exporter": "python",
   "pygments_lexer": "ipython3",
   "version": "3.6.9"
  }
 },
 "nbformat": 4,
 "nbformat_minor": 2
}
